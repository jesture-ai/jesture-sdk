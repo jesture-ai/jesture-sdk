{
 "cells": [
  {
   "cell_type": "code",
   "execution_count": null,
   "metadata": {},
   "outputs": [],
   "source": [
    "from IPython import display\n",
    "\n",
    "import sys, platform\n",
    "import ctypes, ctypes.util\n",
    "import shutil\n",
    "\n",
    "import threading\n",
    "import time\n",
    "import logging\n",
    "logging.basicConfig(level=logging.DEBUG, format='(%(threadName)-10s) %(message)s')\n",
    "\n",
    "ctypes.util.find_library(\"libSystem.B.dylib\")\n",
    "print(shutil.which(\"libSystem.B.dylib\"))\n",
    "ctypes.CDLL(\"libSystem.B.dylib\")._name"
   ]
  },
  {
   "cell_type": "code",
   "execution_count": null,
   "metadata": {},
   "outputs": [],
   "source": [
    "ctypes.__version__"
   ]
  },
  {
   "cell_type": "code",
   "execution_count": null,
   "metadata": {},
   "outputs": [],
   "source": [
    "platform.mac_ver()"
   ]
  },
  {
   "cell_type": "code",
   "execution_count": null,
   "metadata": {},
   "outputs": [],
   "source": [
    "!which python"
   ]
  },
  {
   "cell_type": "code",
   "execution_count": null,
   "metadata": {},
   "outputs": [],
   "source": [
    "import os\n",
    "# print(os.environ['DYLD_LIBRARY_PATH'])\n",
    "os.environ['DYLD_LIBRARY_PATH'] = \"/usr/local/opt/gcc/lib/gcc/10\"\n",
    "print(os.environ['DYLD_LIBRARY_PATH'])"
   ]
  },
  {
   "cell_type": "code",
   "execution_count": null,
   "metadata": {},
   "outputs": [],
   "source": [
    "%tb\n",
    "\n",
    "import sys, platform\n",
    "import ctypes, ctypes.util\n",
    "\n",
    "# https://solarianprogrammer.com/2019/07/18/python-using-c-cpp-libraries-ctypes/\n",
    "mylib_path = ctypes.util.find_library(\"full_cpu\")\n",
    "if not mylib_path:\n",
    "    print(\"Unable to find the specified library.\")\n",
    "    sys.exit()\n",
    "\n",
    "try:\n",
    "    jesture_lib = ctypes.CDLL(mylib_path)\n",
    "except OSError:\n",
    "    print(\"Unable to load the system C library\")\n",
    "    sys.exit()"
   ]
  },
  {
   "cell_type": "code",
   "execution_count": null,
   "metadata": {},
   "outputs": [],
   "source": [
    "create_full_cpu = jesture_lib.CreateFullCpu\n",
    "create_full_cpu.argtypes = [ctypes.c_int]\n",
    "create_full_cpu.restype = ctypes.POINTER(ctypes.c_int)\n",
    "\n",
    "run_full_cpu = jesture_lib.RunFullCpu\n",
    "run_full_cpu.argtypes = [ctypes.POINTER(ctypes.c_int)]\n",
    "run_full_cpu.restype = None\n",
    "\n",
    "test_dispose = jesture_lib.DisposeFullCpu\n",
    "test_dispose.argtypes = [ctypes.POINTER(ctypes.c_int)]\n",
    "test_dispose.restype = None\n",
    "\n",
    "get_dynamic_gesture = jesture_lib.GetCurrentDynamicGesture\n",
    "get_dynamic_gesture.argtypes = [ctypes.POINTER(ctypes.c_int)]\n",
    "get_dynamic_gesture.restype = ctypes.c_char_p\n",
    "\n",
    "get_static_left_gesture = jesture_lib.GetCurrentStaticLeftGesture\n",
    "get_static_left_gesture.argtypes = [ctypes.POINTER(ctypes.c_int)]\n",
    "get_static_left_gesture.restype = ctypes.c_char_p\n",
    "\n",
    "get_static_right_gesture = jesture_lib.GetCurrentStaticRightGesture\n",
    "get_static_right_gesture.argtypes = [ctypes.POINTER(ctypes.c_int)]\n",
    "get_static_right_gesture.restype = ctypes.c_char_p\n",
    "\n",
    "# get_hand_left_keypoints = jesture_lib.GetCurrentHandLeftKeypoints\n",
    "# get_hand_left_keypoints.argtypes = [ctypes.POINTER(ctypes.c_int)]\n",
    "# get_hand_left_keypoints.restype = [ctypes.POINTER(ctypes.c_float)]\n",
    "\n",
    "# get_hand_right_keypoints = jesture_lib.GetCurrentHandRightKeypoints\n",
    "# get_hand_right_keypoints.argtypes = [ctypes.POINTER(ctypes.c_int)]\n",
    "# get_hand_right_keypoints.restype = [ctypes.POINTER(ctypes.c_float)]"
   ]
  },
  {
   "cell_type": "markdown",
   "metadata": {},
   "source": [
    "### Main loop"
   ]
  },
  {
   "cell_type": "code",
   "execution_count": null,
   "metadata": {},
   "outputs": [],
   "source": [
    "instance = create_full_cpu(0)\n",
    "print(instance)"
   ]
  },
  {
   "cell_type": "code",
   "execution_count": null,
   "metadata": {},
   "outputs": [],
   "source": [
    "def daemon():\n",
    "    logging.debug('Starting')\n",
    "    run_full_cpu(instance)\n",
    "    logging.debug('Exiting')"
   ]
  },
  {
   "cell_type": "code",
   "execution_count": null,
   "metadata": {},
   "outputs": [],
   "source": [
    "# run_full_cpu(instance)\n",
    "d = threading.Thread(name='daemon', target=daemon)\n",
    "d.setDaemon(True)\n",
    "d.start()"
   ]
  },
  {
   "cell_type": "code",
   "execution_count": null,
   "metadata": {},
   "outputs": [],
   "source": [
    "i = 0\n",
    "while (True):\n",
    "    print('Dynamic gesture:', get_dynamic_gesture(instance))\n",
    "    print('Static left gesture:', get_static_left_gesture(instance))\n",
    "    print('Static right gesture:', get_static_right_gesture(instance))\n",
    "    if i % 10000:\n",
    "        display.clear_output()\n",
    "    i += 1"
   ]
  },
  {
   "cell_type": "code",
   "execution_count": null,
   "metadata": {},
   "outputs": [],
   "source": [
    "test_dispose(instance)"
   ]
  },
  {
   "cell_type": "code",
   "execution_count": null,
   "metadata": {},
   "outputs": [],
   "source": []
  }
 ],
 "metadata": {
  "kernelspec": {
   "display_name": "Python 3",
   "language": "python",
   "name": "python3"
  },
  "language_info": {
   "codemirror_mode": {
    "name": "ipython",
    "version": 3
   },
   "file_extension": ".py",
   "mimetype": "text/x-python",
   "name": "python",
   "nbconvert_exporter": "python",
   "pygments_lexer": "ipython3",
   "version": "3.7.4"
  },
  "toc": {
   "base_numbering": 1,
   "nav_menu": {},
   "number_sections": true,
   "sideBar": true,
   "skip_h1_title": false,
   "title_cell": "Table of Contents",
   "title_sidebar": "Contents",
   "toc_cell": false,
   "toc_position": {},
   "toc_section_display": true,
   "toc_window_display": false
  }
 },
 "nbformat": 4,
 "nbformat_minor": 2
}
