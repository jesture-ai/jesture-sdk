{
 "cells": [
  {
   "cell_type": "code",
   "execution_count": 1,
   "metadata": {},
   "outputs": [
    {
     "name": "stdout",
     "output_type": "stream",
     "text": [
      "None\n"
     ]
    },
    {
     "data": {
      "text/plain": [
       "'libSystem.B.dylib'"
      ]
     },
     "execution_count": 1,
     "metadata": {},
     "output_type": "execute_result"
    }
   ],
   "source": [
    "import sys, platform\n",
    "import ctypes, ctypes.util\n",
    "import shutil\n",
    "\n",
    "ctypes.util.find_library(\"libSystem.B.dylib\")\n",
    "print(shutil.which(\"libSystem.B.dylib\"))\n",
    "ctypes.CDLL(\"libSystem.B.dylib\")._name"
   ]
  },
  {
   "cell_type": "code",
   "execution_count": 2,
   "metadata": {},
   "outputs": [
    {
     "name": "stdout",
     "output_type": "stream",
     "text": [
      "/usr/local/opt/gcc/lib/gcc/10\n"
     ]
    }
   ],
   "source": [
    "import os\n",
    "# print(os.environ['DYLD_LIBRARY_PATH'])\n",
    "os.environ['DYLD_LIBRARY_PATH'] = \"/usr/local/opt/gcc/lib/gcc/10\"\n",
    "print(os.environ['DYLD_LIBRARY_PATH'])"
   ]
  },
  {
   "cell_type": "code",
   "execution_count": 4,
   "metadata": {},
   "outputs": [
    {
     "ename": "SystemExit",
     "evalue": "",
     "output_type": "error",
     "traceback": [
      "\u001b[0;31m---------------------------------------------------------------------------\u001b[0m",
      "\u001b[0;31mOSError\u001b[0m                                   Traceback (most recent call last)",
      "\u001b[0;32m<ipython-input-3-21ad9f6d803b>\u001b[0m in \u001b[0;36m<module>\u001b[0;34m\u001b[0m\n\u001b[1;32m     12\u001b[0m \u001b[0;32mtry\u001b[0m\u001b[0;34m:\u001b[0m\u001b[0;34m\u001b[0m\u001b[0;34m\u001b[0m\u001b[0m\n\u001b[0;32m---> 13\u001b[0;31m     \u001b[0mjesture_lib\u001b[0m \u001b[0;34m=\u001b[0m \u001b[0mctypes\u001b[0m\u001b[0;34m.\u001b[0m\u001b[0mCDLL\u001b[0m\u001b[0;34m(\u001b[0m\u001b[0mmylib_path\u001b[0m\u001b[0;34m)\u001b[0m\u001b[0;34m\u001b[0m\u001b[0;34m\u001b[0m\u001b[0m\n\u001b[0m\u001b[1;32m     14\u001b[0m \u001b[0;32mexcept\u001b[0m \u001b[0mOSError\u001b[0m\u001b[0;34m:\u001b[0m\u001b[0;34m\u001b[0m\u001b[0;34m\u001b[0m\u001b[0m\n",
      "\u001b[0;32m~/opt/anaconda3/lib/python3.7/ctypes/__init__.py\u001b[0m in \u001b[0;36m__init__\u001b[0;34m(self, name, mode, handle, use_errno, use_last_error)\u001b[0m\n\u001b[1;32m    363\u001b[0m         \u001b[0;32mif\u001b[0m \u001b[0mhandle\u001b[0m \u001b[0;32mis\u001b[0m \u001b[0;32mNone\u001b[0m\u001b[0;34m:\u001b[0m\u001b[0;34m\u001b[0m\u001b[0;34m\u001b[0m\u001b[0m\n\u001b[0;32m--> 364\u001b[0;31m             \u001b[0mself\u001b[0m\u001b[0;34m.\u001b[0m\u001b[0m_handle\u001b[0m \u001b[0;34m=\u001b[0m \u001b[0m_dlopen\u001b[0m\u001b[0;34m(\u001b[0m\u001b[0mself\u001b[0m\u001b[0;34m.\u001b[0m\u001b[0m_name\u001b[0m\u001b[0;34m,\u001b[0m \u001b[0mmode\u001b[0m\u001b[0;34m)\u001b[0m\u001b[0;34m\u001b[0m\u001b[0;34m\u001b[0m\u001b[0m\n\u001b[0m\u001b[1;32m    365\u001b[0m         \u001b[0;32melse\u001b[0m\u001b[0;34m:\u001b[0m\u001b[0;34m\u001b[0m\u001b[0;34m\u001b[0m\u001b[0m\n",
      "\u001b[0;31mOSError\u001b[0m: dlopen(full_cpu.dylib, 6): Symbol not found: ___addtf3\n  Referenced from: /usr/local/opt/gcc/lib/gcc/10/libquadmath.0.dylib\n  Expected in: flat namespace\n in /usr/local/opt/gcc/lib/gcc/10/libquadmath.0.dylib",
      "\nDuring handling of the above exception, another exception occurred:\n",
      "\u001b[0;31mSystemExit\u001b[0m                                Traceback (most recent call last)",
      "\u001b[0;32m<ipython-input-3-21ad9f6d803b>\u001b[0m in \u001b[0;36m<module>\u001b[0;34m\u001b[0m\n\u001b[1;32m     14\u001b[0m \u001b[0;32mexcept\u001b[0m \u001b[0mOSError\u001b[0m\u001b[0;34m:\u001b[0m\u001b[0;34m\u001b[0m\u001b[0;34m\u001b[0m\u001b[0m\n\u001b[1;32m     15\u001b[0m     \u001b[0mprint\u001b[0m\u001b[0;34m(\u001b[0m\u001b[0;34m\"Unable to load the system C library\"\u001b[0m\u001b[0;34m)\u001b[0m\u001b[0;34m\u001b[0m\u001b[0;34m\u001b[0m\u001b[0m\n\u001b[0;32m---> 16\u001b[0;31m     \u001b[0msys\u001b[0m\u001b[0;34m.\u001b[0m\u001b[0mexit\u001b[0m\u001b[0;34m(\u001b[0m\u001b[0;34m)\u001b[0m\u001b[0;34m\u001b[0m\u001b[0;34m\u001b[0m\u001b[0m\n\u001b[0m",
      "\u001b[0;31mSystemExit\u001b[0m: "
     ]
    },
    {
     "name": "stdout",
     "output_type": "stream",
     "text": [
      "Unable to load the system C library\n"
     ]
    },
    {
     "ename": "SystemExit",
     "evalue": "",
     "output_type": "error",
     "traceback": [
      "An exception has occurred, use %tb to see the full traceback.\n",
      "\u001b[0;31mSystemExit\u001b[0m\n"
     ]
    }
   ],
   "source": [
    "%tb\n",
    "\n",
    "import sys, platform\n",
    "import ctypes, ctypes.util\n",
    "\n",
    "# https://solarianprogrammer.com/2019/07/18/python-using-c-cpp-libraries-ctypes/\n",
    "mylib_path = ctypes.util.find_library(\"full_cpu\")\n",
    "if not mylib_path:\n",
    "    print(\"Unable to find the specified library.\")\n",
    "    sys.exit()\n",
    "\n",
    "try:\n",
    "    jesture_lib = ctypes.CDLL(mylib_path)\n",
    "except OSError:\n",
    "    print(\"Unable to load the system C library\")\n",
    "    sys.exit()"
   ]
  },
  {
   "cell_type": "code",
   "execution_count": null,
   "metadata": {},
   "outputs": [],
   "source": [
    "create_full_cpu = jesture_lib.CreateFullCpu\n",
    "create_full_cpu.argtypes = None\n",
    "create_full_cpu.restype = ctypes.POINTER(ctypes.c_int)\n",
    "\n",
    "run_full_cpu = jesture_lib.RunFullCpu\n",
    "run_full_cpu.argtypes = [ctypes.POINTER(ctypes.c_int)]\n",
    "run_full_cpu.restype = None\n",
    "\n",
    "test_dispose = jesture_lib.DisposeFullCpu\n",
    "test_dispose.argtypes = [ctypes.POINTER(ctypes.c_int)]\n",
    "test_dispose.restype = None\n",
    "\n",
    "get_dynamic_gesture = jesture_lib.GetCurrentDynamicGesture\n",
    "get_dynamic_gesture.argtypes = [ctypes.POINTER(ctypes.c_int)]\n",
    "get_dynamic_gesture.restype = ctypes.c_char_p\n",
    "\n",
    "get_static_left_gesture = jesture_lib.GetCurrentStaticLeftGesture\n",
    "get_static_left_gesture.argtypes = [ctypes.POINTER(ctypes.c_int)]\n",
    "get_static_left_gesture.restype = ctypes.c_char_p\n",
    "\n",
    "get_static_right_gesture = jesture_lib.GetCurrentStaticRightGesture\n",
    "get_static_right_gesture.argtypes = [ctypes.POINTER(ctypes.c_int)]\n",
    "get_static_right_gesture.restype = ctypes.c_char_p\n",
    "\n",
    "# get_hand_left_keypoints = jesture_lib.GetCurrentHandLeftKeypoints\n",
    "# get_hand_left_keypoints.argtypes = [ctypes.POINTER(ctypes.c_int)]\n",
    "# get_hand_left_keypoints.restype = [ctypes.POINTER(ctypes.c_float)]\n",
    "\n",
    "# get_hand_right_keypoints = jesture_lib.GetCurrentHandRightKeypoints\n",
    "# get_hand_right_keypoints.argtypes = [ctypes.POINTER(ctypes.c_int)]\n",
    "# get_hand_right_keypoints.restype = [ctypes.POINTER(ctypes.c_float)]"
   ]
  },
  {
   "cell_type": "code",
   "execution_count": null,
   "metadata": {},
   "outputs": [],
   "source": []
  },
  {
   "cell_type": "code",
   "execution_count": null,
   "metadata": {},
   "outputs": [],
   "source": []
  }
 ],
 "metadata": {
  "kernelspec": {
   "display_name": "Python 3",
   "language": "python",
   "name": "python3"
  },
  "language_info": {
   "codemirror_mode": {
    "name": "ipython",
    "version": 3
   },
   "file_extension": ".py",
   "mimetype": "text/x-python",
   "name": "python",
   "nbconvert_exporter": "python",
   "pygments_lexer": "ipython3",
   "version": "3.7.4"
  },
  "toc": {
   "base_numbering": 1,
   "nav_menu": {},
   "number_sections": true,
   "sideBar": true,
   "skip_h1_title": false,
   "title_cell": "Table of Contents",
   "title_sidebar": "Contents",
   "toc_cell": false,
   "toc_position": {},
   "toc_section_display": true,
   "toc_window_display": false
  }
 },
 "nbformat": 4,
 "nbformat_minor": 2
}
