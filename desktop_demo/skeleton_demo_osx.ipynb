{
 "cells": [
  {
   "cell_type": "markdown",
   "metadata": {},
   "source": [
    "# Hand tracking skeleton (Mac OS X)"
   ]
  },
  {
   "cell_type": "code",
   "execution_count": 1,
   "metadata": {},
   "outputs": [],
   "source": [
    "%load_ext autoreload\n",
    "%autoreload 2"
   ]
  },
  {
   "cell_type": "code",
   "execution_count": 2,
   "metadata": {},
   "outputs": [
    {
     "name": "stderr",
     "output_type": "stream",
     "text": [
      "(MainThread) Loaded backend module://ipykernel.pylab.backend_inline version unknown.\n"
     ]
    },
    {
     "name": "stdout",
     "output_type": "stream",
     "text": [
      "shutil.which(\"libSystem.B.dylib\"): None\n",
      "ctypes.CDLL(\"libSystem.B.dylib\")._name: libSystem.B.dylib\n",
      "ctypes.__version__: 1.1.0\n",
      "platform.mac_ver(): ('10.16', ('', '', ''), 'x86_64')\n",
      "cv2.__version__: 4.1.2\n"
     ]
    }
   ],
   "source": [
    "from PIL import Image, ImageDraw, ImageFont\n",
    "import matplotlib.pyplot as plt\n",
    "from skimage import io\n",
    "import numpy as np\n",
    "import pickle\n",
    "import time\n",
    "import cv2\n",
    "\n",
    "from thread_camera import ThreadCamera\n",
    "from utils import load_image_with_alpha, overlay_alpha\n",
    "from utils import draw_text, draw_multiline_text, draw_skeleton\n",
    "\n",
    "from jesture_sdk_python import JestureSdkRunner\n",
    "from webcam_draw import WebcamDrawStream\n",
    "\n",
    "print('cv2.__version__:', cv2.__version__)  # 4.1.2 recommended"
   ]
  },
  {
   "cell_type": "code",
   "execution_count": 3,
   "metadata": {},
   "outputs": [
    {
     "name": "stderr",
     "output_type": "stream",
     "text": [
      "(MainThread) STREAM b'IHDR' 16 13\n",
      "(MainThread) STREAM b'IDAT' 41 8192\n"
     ]
    },
    {
     "name": "stdout",
     "output_type": "stream",
     "text": [
      "Removing 250 pixels from up and down borders\n",
      "Original image size: (1920, 580)\n",
      "Target size: (192, 58)\n"
     ]
    }
   ],
   "source": [
    "# create the application window\n",
    "name = 'JestureSDK: Python Demo'\n",
    "width, height = (640, 480)\n",
    "cv2.namedWindow(name, cv2.WINDOW_NORMAL)\n",
    "cv2.resizeWindow(name, (width+40, height+20))\n",
    "cv2.startWindowThread()\n",
    "\n",
    "data_file_name = './hand_keypoints_dataset_v1.pkl'\n",
    "\n",
    "# set the logo stuff\n",
    "design_root = '/Users/izakharkin/Desktop/deepjest/_design'\n",
    "logo_path = f'{design_root}/wix/jesture_ai_logo_comfortaa/jesture_logo_comfortaa-removebg.png'\n",
    "logo_img, logo_alpha = load_image_with_alpha(logo_path, remove_borders=True)\n",
    "logo_loc = (10, 10)\n",
    "\n",
    "# set the gestures help stuff\n",
    "key_to_idx = {'0': 0, '1': 1, '2': 2, '3': 3, '4': 4, '5': 5,\n",
    "              '6': 6, '7': 7, '8': 8, '9': 9, 'f': 10, 'u': 11, \n",
    "              'd': 12, 'c': 13}\n",
    "key_ords = [ord(x) for x in key_to_idx]\n",
    "idx_to_gesture = {0: 'horns', 1: 'one', 2: 'two', 3: 'three', 4: 'four', \n",
    "                  5: 'five', 6: 'fist', 7: 'piece', 8: 'love', 9: 'ok', \n",
    "                  10: 'fuck', 11: 'thumb_up', 12: 'thumb_down', 13: 'call_me'}\n",
    "help_textlist = [f'{k}: {idx_to_gesture[key_to_idx[k]]}' for k in key_to_idx]\n",
    "help_textlist_str = '\\n'.join(help_textlist)\n",
    "\n",
    "help_box_width = 175\n",
    "help_box_tl = {'right': (10, height//5+20), \n",
    "               'left': (width-help_box_width, height//5+20)}\n",
    "help_box_br = {'right': (10+help_box_width, height-height//5+60), \n",
    "               'left': (width, height-height//5+60)}\n",
    "help_text_loc = {'right': (help_box_tl['right'][0]+10, help_box_tl['right'][1]+10),\n",
    "                 'left': (help_box_tl['left'][0]+10, help_box_tl['left'][1]+10)}\n",
    "help_font = ImageFont.truetype(\"Comfortaa-Light.ttf\", 20)\n",
    "\n",
    "# set the scaled hands stuff\n",
    "mid_hand_box_tl = (width//3, height-height//5)\n",
    "mid_hand_box_br = (2*width//3, height)\n",
    "hand_box_tl = {'right': (2*width//3, height-height//5),\n",
    "               'left': (0, height-height//5)}\n",
    "hand_box_br = {'right': (width, height),\n",
    "               'left': (width//3, height)}\n",
    "\n",
    "# set the hand type stuff\n",
    "handtype_text = {\"right\": \"Right hand capture (L/R to swtich)\", \n",
    "                 \"left\": \"Left hand capture (L/R to swtich)\"}\n",
    "handtype_text_loc = (width//2, 25)\n",
    "\n",
    "# set common font\n",
    "font = ImageFont.truetype(\"Comfortaa-Light.ttf\", 24)\n",
    "\n",
    "# variables used in the main loop\n",
    "pressed_duration = 0\n",
    "pressed_text = ''\n",
    "\n",
    "selfie_mode = True\n",
    "hand_type = 'right'\n",
    "data_list = []\n",
    "prev_k = ''\n",
    "i = 0"
   ]
  },
  {
   "cell_type": "code",
   "execution_count": 4,
   "metadata": {},
   "outputs": [
    {
     "name": "stderr",
     "output_type": "stream",
     "text": [
      "(MainThread) [JestureSdkRunner] Instance created.\n",
      "(jesture_sdk_python_thread) [JestureSdkRunner] Starting recognition...\n",
      "(MainThread) [JestureSdkRunner] Recognition thread started.\n"
     ]
    },
    {
     "data": {
      "text/plain": [
       "<jesture_sdk_python.JestureSdkRunner at 0x7fa4d5dacdd0>"
      ]
     },
     "execution_count": 4,
     "metadata": {},
     "output_type": "execute_result"
    }
   ],
   "source": [
    "time.sleep(1)\n",
    "# start Jesture SDK Python runner\n",
    "jesture_runner = JestureSdkRunner(cam_id=1)\n",
    "jesture_runner.start_recognition()"
   ]
  },
  {
   "cell_type": "code",
   "execution_count": 5,
   "metadata": {},
   "outputs": [],
   "source": [
    "# jesture_runner.stop_recognition()"
   ]
  },
  {
   "cell_type": "code",
   "execution_count": 6,
   "metadata": {
    "scrolled": true
   },
   "outputs": [
    {
     "name": "stderr",
     "output_type": "stream",
     "text": [
      "(MainThread) [WebcamDrawStream] Starting a thread...\n",
      "(MainThread) [WebcamDrawStream] Thread started.\n"
     ]
    },
    {
     "data": {
      "text/plain": [
       "<webcam_draw.WebcamDrawStream at 0x7fa4d2c32a90>"
      ]
     },
     "execution_count": 6,
     "metadata": {},
     "output_type": "execute_result"
    },
    {
     "name": "stdout",
     "output_type": "stream",
     "text": [
      "(480, 640, 3)\n"
     ]
    }
   ],
   "source": [
    "time.sleep(3)\n",
    "# start reading frames to display in the application window\n",
    "cap = WebcamDrawStream(\n",
    "    jesture_runner, cam_id=1, width=width, height=height,\n",
    "    hand_box_tl=mid_hand_box_tl, hand_box_br=mid_hand_box_br,\n",
    "    draw_hand_box=False\n",
    ")\n",
    "cap.start()"
   ]
  },
  {
   "cell_type": "code",
   "execution_count": 7,
   "metadata": {
    "scrolled": true
   },
   "outputs": [
    {
     "name": "stdout",
     "output_type": "stream",
     "text": [
      "pressed c: call_me, shape: (640, 480)\n",
      "pressed c: call_me, shape: (640, 480)\n",
      "pressed 8: love, shape: (640, 480)\n",
      "pressed 8: love, shape: (640, 480)\n",
      "pressed 8: love, shape: (640, 480)\n",
      "pressed 8: love, shape: (640, 480)\n",
      "pressed 8: love, shape: (640, 480)\n",
      "pressed 8: love, shape: (640, 480)\n",
      "pressed 8: love, shape: (640, 480)\n",
      "pressed 8: love, shape: (640, 480)\n",
      "pressed 8: love, shape: (640, 480)\n",
      "pressed 8: love, shape: (640, 480)\n",
      "pressed 8: love, shape: (640, 480)\n",
      "pressed 8: love, shape: (640, 480)\n",
      "pressed 8: love, shape: (640, 480)\n",
      "pressed 8: love, shape: (640, 480)\n",
      "pressed 8: love, shape: (640, 480)\n",
      "pressed 8: love, shape: (640, 480)\n",
      "pressed 8: love, shape: (640, 480)\n",
      "pressed 8: love, shape: (640, 480)\n",
      "pressed 8: love, shape: (640, 480)\n",
      "pressed 8: love, shape: (640, 480)\n",
      "pressed 8: love, shape: (640, 480)\n",
      "pressed 8: love, shape: (640, 480)\n",
      "pressed 8: love, shape: (640, 480)\n",
      "pressed 8: love, shape: (640, 480)\n",
      "pressed 7: piece, shape: (640, 480)\n",
      "pressed 7: piece, shape: (640, 480)\n",
      "pressed 7: piece, shape: (640, 480)\n",
      "pressed 7: piece, shape: (640, 480)\n",
      "pressed 7: piece, shape: (640, 480)\n",
      "pressed 7: piece, shape: (640, 480)\n",
      "pressed 7: piece, shape: (640, 480)\n",
      "pressed 7: piece, shape: (640, 480)\n"
     ]
    },
    {
     "name": "stderr",
     "output_type": "stream",
     "text": [
      "(MainThread) [WebcamDrawStream] Stopping...\n",
      "(Camera-Draw Python Thread) [WebcamDrawStream] Frame loop finished.\n",
      "(Camera-Draw Python Thread) [WebcamDrawStream] Capture released.\n",
      "(MainThread) [WebcamDrawStream] Camera thread joined.\n",
      "(MainThread) [JestureSdkRunner] Stopping recognition...\n",
      "(MainThread) [JestureSdkRunner] Recognition stopped.\n"
     ]
    },
    {
     "name": "stdout",
     "output_type": "stream",
     "text": [
      "Dumping 34 items to ./hand_keypoints_dataset_v1.pkl...\n",
      "Dumped.\n"
     ]
    },
    {
     "name": "stderr",
     "output_type": "stream",
     "text": [
      "(MainThread) [JestureSdkRunner] Thread joined.\n"
     ]
    },
    {
     "data": {
      "text/plain": [
       "-1"
      ]
     },
     "execution_count": 7,
     "metadata": {},
     "output_type": "execute_result"
    }
   ],
   "source": [
    "time.sleep(3)\n",
    "while(True):\n",
    "    if cap.frame is None:\n",
    "        continue\n",
    "        \n",
    "#     cap.hand_box_tl = hand_box_tl[hand_type]\n",
    "#     cap.hand_box_br = hand_box_br[hand_type]\n",
    "    \n",
    "    # get current webcam image with drawn hand skeletons\n",
    "    frame = cap.frame[:,::-1,:] if selfie_mode else cap.frame\n",
    "    \n",
    "    # draw logo\n",
    "    frame = overlay_alpha(logo_img[:,:,::-1], logo_alpha, frame, loc=logo_loc, alpha=1.0)\n",
    "    \n",
    "    # draw ui elements\n",
    "    frame = Image.fromarray(frame if type(np.array([])) == type(frame) else frame.get())\n",
    "    draw = ImageDraw.Draw(frame, \"RGBA\")\n",
    "    draw.rectangle((help_box_tl[hand_type], help_box_br[hand_type]), \n",
    "                   fill=(0, 0, 0, 127), outline=(235, 190, 63, 255))\n",
    "#     draw.rectangle((hand_box_tl, hand_box_br), fill=(0, 0, 0, 127), outline=(235, 190, 63, 255))\n",
    "    \n",
    "    # draw text\n",
    "    draw.multiline_text(handtype_text_loc, handtype_text[hand_type], \n",
    "                        font=font, fill=(255, 255, 255))\n",
    "    draw.multiline_text(help_text_loc[hand_type], help_textlist_str, \n",
    "                        font=help_font, fill=(255, 255, 255))\n",
    "    \n",
    "    # retrieve keyboard signal\n",
    "    c = cv2.waitKey(1) % 256\n",
    "    if c == ord('q'):\n",
    "        break\n",
    "        \n",
    "    if c == ord('l'):\n",
    "        hand_type = 'left'\n",
    "    if c == ord('r'):\n",
    "        hand_type = 'right'\n",
    "    \n",
    "    # retrieve if gesture key is pressed\n",
    "    if chr(c) in key_to_idx:\n",
    "        k, v = chr(c), idx_to_gesture[key_to_idx[chr(c)]]\n",
    "        pressed_text = f'{k}: {v}'\n",
    "        notify_textlist_str = \"\\n\".join(\n",
    "            [x if x == pressed_text else \"\" for x in help_textlist])\n",
    "        pressed_duration = 4\n",
    "        print(f\"pressed {pressed_text}, shape: {frame.size}\")\n",
    "        data_list.append({\n",
    "            'hand_type': hand_type,\n",
    "            'gesture_id': key_to_idx[k],\n",
    "            'gesture_name': v,\n",
    "            'pred_gesture_name': jesture_runner.get_gesture(\n",
    "                f'{hand_type}_static'),\n",
    "            'keypoints': jesture_runner.get_hand_keypoints(\n",
    "                f'{hand_type}_keypoints', mirror=False),\n",
    "            'scaled_keypoints': jesture_runner.get_hand_keypoints(\n",
    "                f'scaled_{hand_type}_keypoints', mirror=False),\n",
    "        })\n",
    "#         print(data_list[-1])\n",
    "        # save current data to not to lose it \n",
    "        # in case if the program accidentally exited\n",
    "        if k != prev_k:\n",
    "            with open(data_file_name, 'wb') as file:\n",
    "                pickle.dump(data_list, file)\n",
    "        prev_k = k\n",
    "    \n",
    "    # draw notification text if key was pressed less then 12 frames ago\n",
    "    if pressed_duration > 0:\n",
    "        draw.multiline_text(help_text_loc[hand_type], notify_textlist_str, \n",
    "                            font=help_font, fill=(235, 190, 63))\n",
    "        pressed_duration -= 1\n",
    "   \n",
    "    frame = np.array(frame).astype(np.uint8)\n",
    "    cv2.imshow(name, frame)\n",
    "            \n",
    "    i += 1\n",
    "\n",
    "\n",
    "with open(data_file_name, 'wb') as file:\n",
    "    print(f'Dumping {len(data_list)} items to {data_file_name}...')\n",
    "    pickle.dump(data_list, file)\n",
    "    print(f'Dumped.')\n",
    "    \n",
    "\n",
    "cap.stop()\n",
    "jesture_runner.stop_recognition()\n",
    "\n",
    "cv2.waitKey(1)\n",
    "cv2.destroyWindow(name)\n",
    "cv2.destroyAllWindows()\n",
    "cv2.waitKey(1)"
   ]
  },
  {
   "cell_type": "code",
   "execution_count": 8,
   "metadata": {},
   "outputs": [
    {
     "name": "stderr",
     "output_type": "stream",
     "text": [
      "(MainThread) [WebcamDrawStream] Stopping...\n",
      "(MainThread) [WebcamDrawStream] Camera thread joined.\n",
      "(MainThread) [JestureSdkRunner] Stopping recognition...\n",
      "(MainThread) [JestureSdkRunner] Recognition stopped.\n",
      "(MainThread) [JestureSdkRunner] Thread joined.\n"
     ]
    },
    {
     "data": {
      "text/plain": [
       "-1"
      ]
     },
     "execution_count": 8,
     "metadata": {},
     "output_type": "execute_result"
    }
   ],
   "source": [
    "cap.stop()\n",
    "jesture_runner.stop_recognition()\n",
    "\n",
    "cv2.waitKey(1)\n",
    "# cv2.destroyWindow(name)\n",
    "cv2.destroyAllWindows()\n",
    "cv2.waitKey(1)"
   ]
  },
  {
   "cell_type": "code",
   "execution_count": 1,
   "metadata": {},
   "outputs": [
    {
     "name": "stdout",
     "output_type": "stream",
     "text": [
      "34\n",
      "[{'hand_type': 'right', 'gesture_id': 13, 'gesture_name': 'call_me', 'pred_gesture_name': '———', 'keypoints': array([[ 1.79542389e+02,  3.36280609e+02, -3.44231812e-05],\n",
      "       [ 2.18843719e+02,  3.25856262e+02, -1.59617029e-02],\n",
      "       [ 2.53346893e+02,  2.88074677e+02, -1.63796842e-02],\n",
      "       [ 2.74987457e+02,  2.54825790e+02, -2.79200319e-02],\n",
      "       [ 2.95982483e+02,  2.30596329e+02, -4.38491777e-02],\n",
      "       [ 2.29035172e+02,  2.50483276e+02, -4.79612360e-03],\n",
      "       [ 2.37625763e+02,  2.28175095e+02, -6.98904544e-02],\n",
      "       [ 2.32817200e+02,  2.60853638e+02, -8.17079693e-02],\n",
      "       [ 2.28645111e+02,  2.87859497e+02, -6.78622648e-02],\n",
      "       [ 2.04800598e+02,  2.42900650e+02, -1.12882107e-02],\n",
      "       [ 2.11697922e+02,  2.24285095e+02, -8.63398314e-02],\n",
      "       [ 2.09950424e+02,  2.63993317e+02, -9.95376036e-02],\n",
      "       [ 2.08270126e+02,  2.92740906e+02, -8.26514438e-02],\n",
      "       [ 1.78836899e+02,  2.39264847e+02, -2.74846647e-02],\n",
      "       [ 1.86689362e+02,  2.14688293e+02, -8.96843001e-02],\n",
      "       [ 1.90361237e+02,  2.49512466e+02, -9.19590071e-02],\n",
      "       [ 1.92882812e+02,  2.77187653e+02, -7.51876310e-02],\n",
      "       [ 1.55160080e+02,  2.38076111e+02, -4.65509668e-02],\n",
      "       [ 1.52402527e+02,  1.98883011e+02, -7.20373988e-02],\n",
      "       [ 1.50792419e+02,  1.76302292e+02, -8.38658437e-02],\n",
      "       [ 1.51926926e+02,  1.53280579e+02, -8.09406713e-02]]), 'scaled_keypoints': array([[ 4.81544048e-01,  7.82442212e-01, -8.25520838e-05],\n",
      "       [ 6.13663971e-01,  7.06563592e-01, -3.82786207e-02],\n",
      "       [ 7.01861978e-01,  5.36331534e-01, -3.92810032e-02],\n",
      "       [ 7.47907698e-01,  3.94990206e-01, -6.69565350e-02],\n",
      "       [ 8.00372481e-01,  2.86918700e-01, -1.05157077e-01],\n",
      "       [ 5.77382028e-01,  4.23881024e-01, -1.15018422e-02],\n",
      "       [ 5.86817861e-01,  3.34804267e-01, -1.67608067e-01],\n",
      "       [ 6.01136744e-01,  4.57742035e-01, -1.95948288e-01],\n",
      "       [ 6.12252533e-01,  5.59531450e-01, -1.62744150e-01],\n",
      "       [ 4.82311785e-01,  4.19963300e-01, -2.70708669e-02],\n",
      "       [ 4.89203840e-01,  3.45894486e-01, -2.07056209e-01],\n",
      "       [ 5.21425247e-01,  4.91302580e-01, -2.38706499e-01],\n",
      "       [ 5.43250024e-01,  5.96976817e-01, -1.98210880e-01],\n",
      "       [ 3.84814709e-01,  4.32008296e-01, -6.59124553e-02],\n",
      "       [ 3.89377177e-01,  3.35438341e-01, -2.15076745e-01],\n",
      "       [ 4.36471224e-01,  4.57909435e-01, -2.20531851e-01],\n",
      "       [ 4.72462356e-01,  5.55623472e-01, -1.80311516e-01],\n",
      "       [ 2.97969848e-01,  4.50689763e-01, -1.11636385e-01],\n",
      "       [ 2.49943882e-01,  3.11519235e-01, -1.72756776e-01],\n",
      "       [ 2.22196847e-01,  2.31358171e-01, -2.01123208e-01],\n",
      "       [ 2.03954965e-01,  1.46936893e-01, -1.94108188e-01]])}, {'hand_type': 'right', 'gesture_id': 13, 'gesture_name': 'call_me', 'pred_gesture_name': '———', 'keypoints': array([[ 1.81085754e+02,  3.36820496e+02, -2.48575761e-05],\n",
      "       [ 2.19465393e+02,  3.27443634e+02, -1.92947704e-02],\n",
      "       [ 2.54659760e+02,  2.89594177e+02, -2.07322370e-02],\n",
      "       [ 2.75890808e+02,  2.56223236e+02, -3.26560028e-02],\n",
      "       [ 2.96671997e+02,  2.32155746e+02, -4.80801873e-02],\n",
      "       [ 2.30327026e+02,  2.51116989e+02, -7.93994311e-03],\n",
      "       [ 2.38961395e+02,  2.29158539e+02, -7.53906369e-02],\n",
      "       [ 2.33457153e+02,  2.62550873e+02, -8.62548873e-02],\n",
      "       [ 2.29021332e+02,  2.89533447e+02, -7.10776448e-02],\n",
      "       [ 2.06030350e+02,  2.43575623e+02, -1.30319204e-02],\n",
      "       [ 2.12642685e+02,  2.25594498e+02, -9.08845589e-02],\n",
      "       [ 2.10982513e+02,  2.66515320e+02, -1.01946235e-01],\n",
      "       [ 2.09665009e+02,  2.95422607e+02, -8.23917687e-02],\n",
      "       [ 1.80153351e+02,  2.40040161e+02, -2.83525772e-02],\n",
      "       [ 1.87810425e+02,  2.16013901e+02, -9.31624845e-02],\n",
      "       [ 1.91696381e+02,  2.51764328e+02, -9.50870141e-02],\n",
      "       [ 1.94380051e+02,  2.79413696e+02, -7.70076290e-02],\n",
      "       [ 1.56545700e+02,  2.39015564e+02, -4.69801240e-02],\n",
      "       [ 1.53754730e+02,  1.99875565e+02, -7.37542361e-02],\n",
      "       [ 1.52235657e+02,  1.77497070e+02, -8.66381302e-02],\n",
      "       [ 1.53432861e+02,  1.54133286e+02, -8.38745311e-02]]), 'scaled_keypoints': array([[ 4.82599050e-01,  7.85412610e-01, -6.01141437e-05],\n",
      "       [ 6.13880038e-01,  7.14331031e-01, -4.66613732e-02],\n",
      "       [ 7.06210971e-01,  5.42239487e-01, -5.01376614e-02],\n",
      "       [ 7.51802444e-01,  3.99908751e-01, -7.89734125e-02],\n",
      "       [ 8.04672778e-01,  2.92012900e-01, -1.16274387e-01],\n",
      "       [ 5.80373347e-01,  4.24946249e-01, -1.92015059e-02],\n",
      "       [ 5.90870798e-01,  3.36408705e-01, -1.82320416e-01],\n",
      "       [ 6.02779925e-01,  4.63734001e-01, -2.08593905e-01],\n",
      "       [ 6.12446427e-01,  5.66607356e-01, -1.71890125e-01],\n",
      "       [ 4.84338075e-01,  4.20686096e-01, -3.15156542e-02],\n",
      "       [ 4.91259903e-01,  3.48624736e-01, -2.19790041e-01],\n",
      "       [ 5.24439394e-01,  4.99779195e-01, -2.46540964e-01],\n",
      "       [ 5.47349036e-01,  6.06696427e-01, -1.99251562e-01],\n",
      "       [ 3.86369020e-01,  4.32583004e-01, -6.85662553e-02],\n",
      "       [ 3.91311318e-01,  3.37425202e-01, -2.25298852e-01],\n",
      "       [ 4.39802438e-01,  4.64362860e-01, -2.29953021e-01],\n",
      "       [ 4.76129621e-01,  5.62845170e-01, -1.86230868e-01],\n",
      "       [ 2.99102366e-01,  4.51480329e-01, -1.13614053e-01],\n",
      "       [ 2.51362354e-01,  3.11103821e-01, -1.78363040e-01],\n",
      "       [ 2.24347010e-01,  2.30769247e-01, -2.09520712e-01],\n",
      "       [ 2.06314474e-01,  1.44228339e-01, -2.02837378e-01]])}, {'hand_type': 'right', 'gesture_id': 8, 'gesture_name': 'love', 'pred_gesture_name': 'SPIDERMAN', 'keypoints': array([[ 1.77097900e+02,  3.39215851e+02, -2.66888164e-05],\n",
      "       [ 2.17911819e+02,  3.31687225e+02, -4.29521538e-02],\n",
      "       [ 2.54601517e+02,  2.93635345e+02, -5.38295023e-02],\n",
      "       [ 2.80823975e+02,  2.66093811e+02, -6.43862784e-02],\n",
      "       [ 3.09284943e+02,  2.56952423e+02, -7.88998753e-02],\n",
      "       [ 2.31953445e+02,  2.38074097e+02, -2.02625990e-02],\n",
      "       [ 2.41189499e+02,  1.96216721e+02, -5.65170273e-02],\n",
      "       [ 2.46518173e+02,  1.67883881e+02, -8.40987861e-02],\n",
      "       [ 2.48170227e+02,  1.42265823e+02, -1.05204217e-01],\n",
      "       [ 2.01918579e+02,  2.33767029e+02, -2.28989832e-02],\n",
      "       [ 2.02236359e+02,  2.10961334e+02, -1.05900325e-01],\n",
      "       [ 2.06783813e+02,  2.50801682e+02, -1.40822574e-01],\n",
      "       [ 2.09773285e+02,  2.81755035e+02, -1.38698757e-01],\n",
      "       [ 1.71123199e+02,  2.34330002e+02, -3.52935977e-02],\n",
      "       [ 1.70109314e+02,  2.03985184e+02, -1.07398048e-01],\n",
      "       [ 1.78865753e+02,  2.35323151e+02, -1.35351941e-01],\n",
      "       [ 1.85767136e+02,  2.61144592e+02, -1.34649232e-01],\n",
      "       [ 1.43612518e+02,  2.38448212e+02, -5.10243885e-02],\n",
      "       [ 1.27197563e+02,  2.05011810e+02, -9.04075578e-02],\n",
      "       [ 1.16627869e+02,  1.83596878e+02, -1.15813911e-01],\n",
      "       [ 1.07566757e+02,  1.59958832e+02, -1.26775458e-01]]), 'scaled_keypoints': array([[ 4.72204983e-01,  7.92205751e-01, -5.53626414e-05],\n",
      "       [ 5.97760379e-01,  7.43924916e-01, -8.90989155e-02],\n",
      "       [ 6.92006946e-01,  6.00849092e-01, -1.11662626e-01],\n",
      "       [ 7.59160161e-01,  4.97490793e-01, -1.33561343e-01],\n",
      "       [ 8.44397902e-01,  4.51424360e-01, -1.63668007e-01],\n",
      "       [ 5.86775959e-01,  4.37307209e-01, -4.20322493e-02],\n",
      "       [ 5.91287673e-01,  2.98448265e-01, -1.17237568e-01],\n",
      "       [ 5.91400445e-01,  2.05005556e-01, -1.74452499e-01],\n",
      "       [ 5.81415117e-01,  1.22400843e-01, -2.18233109e-01],\n",
      "       [ 4.88518536e-01,  4.41462427e-01, -4.75011021e-02],\n",
      "       [ 4.75956202e-01,  3.68612349e-01, -2.19677091e-01],\n",
      "       [ 5.14159262e-01,  4.92840350e-01, -2.92118967e-01],\n",
      "       [ 5.42108715e-01,  5.89680970e-01, -2.87713379e-01],\n",
      "       [ 3.90736908e-01,  4.61586744e-01, -7.32121915e-02],\n",
      "       [ 3.69444102e-01,  3.65509033e-01, -2.22783938e-01],\n",
      "       [ 4.15996492e-01,  4.60142314e-01, -2.80770808e-01],\n",
      "       [ 4.53354806e-01,  5.38303673e-01, -2.79313147e-01],\n",
      "       [ 3.05536807e-01,  4.91083175e-01, -1.05843768e-01],\n",
      "       [ 2.33334661e-01,  3.94322723e-01, -1.87539265e-01],\n",
      "       [ 1.86911672e-01,  3.32384408e-01, -2.40241602e-01],\n",
      "       [ 1.43971905e-01,  2.62465060e-01, -2.62979954e-01]])}] [{'hand_type': 'left', 'gesture_id': 7, 'gesture_name': 'piece', 'pred_gesture_name': 'YEAH', 'keypoints': array([[ 5.26993347e+02,  3.73037903e+02, -7.70860206e-05],\n",
      "       [ 4.84202332e+02,  3.65899902e+02, -3.74689810e-02],\n",
      "       [ 4.47160065e+02,  3.27156738e+02, -7.18737766e-02],\n",
      "       [ 4.57073669e+02,  2.91630005e+02, -1.10674202e-01],\n",
      "       [ 4.87996033e+02,  2.77205017e+02, -1.37759328e-01],\n",
      "       [ 4.72662811e+02,  2.62199188e+02, -2.54262201e-02],\n",
      "       [ 4.58298981e+02,  2.15841019e+02, -7.23419711e-02],\n",
      "       [ 4.51714752e+02,  1.86168167e+02, -9.42426026e-02],\n",
      "       [ 4.48884338e+02,  1.57333252e+02, -9.86962616e-02],\n",
      "       [ 5.05244171e+02,  2.58813934e+02, -4.03476916e-02],\n",
      "       [ 5.04962463e+02,  2.07307770e+02, -8.65492523e-02],\n",
      "       [ 5.03283997e+02,  1.75759048e+02, -1.03325881e-01],\n",
      "       [ 5.08519897e+02,  1.44239120e+02, -1.08044453e-01],\n",
      "       [ 5.34243225e+02,  2.69506805e+02, -6.19948991e-02],\n",
      "       [ 5.18245178e+02,  2.63599762e+02, -1.31386682e-01],\n",
      "       [ 5.07961578e+02,  3.01091919e+02, -1.24717437e-01],\n",
      "       [ 5.14297180e+02,  3.15542145e+02, -1.00928448e-01],\n",
      "       [ 5.61974609e+02,  2.85593231e+02, -8.82398859e-02],\n",
      "       [ 5.42061096e+02,  2.77441833e+02, -1.22377977e-01],\n",
      "       [ 5.33899658e+02,  3.04111298e+02, -1.10418998e-01],\n",
      "       [ 5.40538574e+02,  3.14643677e+02, -8.79959837e-02]]), 'scaled_keypoints': array([[ 5.27378082e-01,  7.97963619e-01, -1.47587227e-04],\n",
      "       [ 4.05955940e-01,  7.52145171e-01, -7.17372969e-02],\n",
      "       [ 3.19773883e-01,  6.16922081e-01, -1.37607977e-01],\n",
      "       [ 3.69515121e-01,  5.18430352e-01, -2.11894423e-01],\n",
      "       [ 4.68641698e-01,  4.94073421e-01, -2.63751030e-01],\n",
      "       [ 4.32368100e-01,  4.41126168e-01, -4.86804880e-02],\n",
      "       [ 4.17162448e-01,  2.96738386e-01, -1.38504371e-01],\n",
      "       [ 4.15087968e-01,  2.05835819e-01, -1.80434838e-01],\n",
      "       [ 4.23542112e-01,  1.19574055e-01, -1.88961715e-01],\n",
      "       [ 5.29946387e-01,  4.50129718e-01, -7.72488117e-02],\n",
      "       [ 5.59057176e-01,  2.98820168e-01, -1.65705323e-01],\n",
      "       [ 5.72469115e-01,  2.05264241e-01, -1.97825491e-01],\n",
      "       [ 6.06154561e-01,  1.15811713e-01, -2.06859559e-01],\n",
      "       [ 6.08829439e-01,  4.98363584e-01, -1.18694089e-01],\n",
      "       [ 5.65316319e-01,  4.71730500e-01, -2.51550078e-01],\n",
      "       [ 5.13346970e-01,  5.75774670e-01, -2.38781303e-01],\n",
      "       [ 5.23539841e-01,  6.21861637e-01, -1.93235412e-01],\n",
      "       [ 6.80857718e-01,  5.61688125e-01, -1.68942168e-01],\n",
      "       [ 6.27158999e-01,  5.26193142e-01, -2.34302223e-01],\n",
      "       [ 5.87707818e-01,  5.99711359e-01, -2.11405814e-01],\n",
      "       [ 6.01067841e-01,  6.34477735e-01, -1.68475196e-01]])}, {'hand_type': 'left', 'gesture_id': 7, 'gesture_name': 'piece', 'pred_gesture_name': 'YEAH', 'keypoints': array([[ 5.27180847e+02,  3.75757507e+02, -9.96571980e-05],\n",
      "       [ 4.83658997e+02,  3.67329285e+02, -3.36447433e-02],\n",
      "       [ 4.46774628e+02,  3.29821960e+02, -6.57815933e-02],\n",
      "       [ 4.52378601e+02,  2.93901825e+02, -1.04845807e-01],\n",
      "       [ 4.79708710e+02,  2.79103119e+02, -1.36348054e-01],\n",
      "       [ 4.71412537e+02,  2.63763672e+02, -2.61478610e-02],\n",
      "       [ 4.56510162e+02,  2.17021957e+02, -6.78715035e-02],\n",
      "       [ 4.49253906e+02,  1.87240112e+02, -8.86595696e-02],\n",
      "       [ 4.45610107e+02,  1.59078491e+02, -9.58131850e-02],\n",
      "       [ 5.03859283e+02,  2.60605255e+02, -4.16902192e-02],\n",
      "       [ 5.04148315e+02,  2.08403763e+02, -8.47619474e-02],\n",
      "       [ 5.02003052e+02,  1.76395996e+02, -1.03436098e-01],\n",
      "       [ 5.06326447e+02,  1.45406662e+02, -1.13369055e-01],\n",
      "       [ 5.32500488e+02,  2.71161652e+02, -6.32196814e-02],\n",
      "       [ 5.16794373e+02,  2.64836792e+02, -1.28680021e-01],\n",
      "       [ 5.06001404e+02,  3.01416656e+02, -1.23877153e-01],\n",
      "       [ 5.11425781e+02,  3.16424805e+02, -1.03775941e-01],\n",
      "       [ 5.59915588e+02,  2.86635742e+02, -8.88296589e-02],\n",
      "       [ 5.40691589e+02,  2.77850616e+02, -1.21566266e-01],\n",
      "       [ 5.32316162e+02,  3.03906006e+02, -1.12673871e-01],\n",
      "       [ 5.38035278e+02,  3.15341522e+02, -9.57481116e-02]]), 'scaled_keypoints': array([[ 5.26043355e-01,  7.99642444e-01, -1.87703612e-04],\n",
      "       [ 4.06159699e-01,  7.48179615e-01, -6.33696318e-02],\n",
      "       [ 3.23554516e-01,  6.17246211e-01, -1.23899162e-01],\n",
      "       [ 3.62140179e-01,  5.17456174e-01, -1.97476327e-01],\n",
      "       [ 4.49990958e-01,  4.91996229e-01, -2.56810576e-01],\n",
      "       [ 4.35729444e-01,  4.42694813e-01, -4.92493100e-02],\n",
      "       [ 4.22114611e-01,  2.98957050e-01, -1.27835482e-01],\n",
      "       [ 4.19878274e-01,  2.08774060e-01, -1.66989669e-01],\n",
      "       [ 4.27016646e-01,  1.25510141e-01, -1.80463448e-01],\n",
      "       [ 5.31012475e-01,  4.53909636e-01, -7.85232261e-02],\n",
      "       [ 5.64499080e-01,  3.03974420e-01, -1.59648523e-01],\n",
      "       [ 5.78352749e-01,  2.10587591e-01, -1.94821149e-01],\n",
      "       [ 6.10171378e-01,  1.24176018e-01, -2.13529795e-01],\n",
      "       [ 6.06772423e-01,  5.02183616e-01, -1.19073816e-01],\n",
      "       [ 5.65562785e-01,  4.74169999e-01, -2.42367893e-01],\n",
      "       [ 5.11642396e-01,  5.72611153e-01, -2.33321726e-01],\n",
      "       [ 5.17852724e-01,  6.19163394e-01, -1.95461243e-01],\n",
      "       [ 6.75929964e-01,  5.63832343e-01, -1.67310029e-01],\n",
      "       [ 6.26143098e-01,  5.26543081e-01, -2.28969187e-01],\n",
      "       [ 5.85758567e-01,  5.96231341e-01, -2.12220430e-01],\n",
      "       [ 5.95051467e-01,  6.32694125e-01, -1.80340886e-01]])}, {'hand_type': 'left', 'gesture_id': 7, 'gesture_name': 'piece', 'pred_gesture_name': 'YEAH', 'keypoints': array([[ 5.24995667e+02,  3.73025757e+02, -1.09437242e-04],\n",
      "       [ 4.81911987e+02,  3.65877808e+02, -3.37460563e-02],\n",
      "       [ 4.45461792e+02,  3.30832733e+02, -6.49803579e-02],\n",
      "       [ 4.46379395e+02,  2.94537933e+02, -1.02513261e-01],\n",
      "       [ 4.71725525e+02,  2.78041626e+02, -1.33524433e-01],\n",
      "       [ 4.70341217e+02,  2.62923676e+02, -2.96209808e-02],\n",
      "       [ 4.55483521e+02,  2.16048859e+02, -7.00954199e-02],\n",
      "       [ 4.48770477e+02,  1.86369629e+02, -9.24357772e-02],\n",
      "       [ 4.45641113e+02,  1.58682800e+02, -1.01075478e-01],\n",
      "       [ 5.02311554e+02,  2.59230438e+02, -4.36528623e-02],\n",
      "       [ 5.02257141e+02,  2.07481323e+02, -8.55227038e-02],\n",
      "       [ 5.00907562e+02,  1.75712646e+02, -1.07358478e-01],\n",
      "       [ 5.06148529e+02,  1.45425003e+02, -1.19616039e-01],\n",
      "       [ 5.30778137e+02,  2.69063141e+02, -6.30131885e-02],\n",
      "       [ 5.14685730e+02,  2.63547974e+02, -1.24926127e-01],\n",
      "       [ 5.04613708e+02,  2.99411957e+02, -1.22218691e-01],\n",
      "       [ 5.10020569e+02,  3.14135590e+02, -1.05210960e-01],\n",
      "       [ 5.58269409e+02,  2.83530151e+02, -8.61227438e-02],\n",
      "       [ 5.39216675e+02,  2.76693085e+02, -1.18998729e-01],\n",
      "       [ 5.31183899e+02,  3.02542877e+02, -1.12729080e-01],\n",
      "       [ 5.36706787e+02,  3.13399261e+02, -9.83303860e-02]]), 'scaled_keypoints': array([[ 5.26106536e-01,  7.96070993e-01, -2.08239973e-04],\n",
      "       [ 4.05592710e-01,  7.47735202e-01, -6.42128587e-02],\n",
      "       [ 3.22198570e-01,  6.22649074e-01, -1.23646274e-01],\n",
      "       [ 3.48098665e-01,  5.17857432e-01, -1.95064843e-01],\n",
      "       [ 4.32250232e-01,  4.86188442e-01, -2.54073679e-01],\n",
      "       [ 4.37909573e-01,  4.41408485e-01, -5.63635565e-02],\n",
      "       [ 4.24780756e-01,  2.95799166e-01, -1.33379355e-01],\n",
      "       [ 4.24290836e-01,  2.05330208e-01, -1.75889149e-01],\n",
      "       [ 4.32930142e-01,  1.22940294e-01, -1.92328990e-01],\n",
      "       [ 5.33097267e-01,  4.51152980e-01, -8.30637813e-02],\n",
      "       [ 5.66069305e-01,  3.00868690e-01, -1.62734777e-01],\n",
      "       [ 5.82489312e-01,  2.07766861e-01, -2.04284444e-01],\n",
      "       [ 6.17096245e-01,  1.23184375e-01, -2.27608442e-01],\n",
      "       [ 6.09452784e-01,  4.97925788e-01, -1.19903103e-01],\n",
      "       [ 5.66260517e-01,  4.71610516e-01, -2.37712622e-01],\n",
      "       [ 5.14057100e-01,  5.69290578e-01, -2.32560843e-01],\n",
      "       [ 5.20329297e-01,  6.15501046e-01, -2.00198099e-01],\n",
      "       [ 6.80009544e-01,  5.57529628e-01, -1.63876548e-01],\n",
      "       [ 6.29068732e-01,  5.25481164e-01, -2.26433814e-01],\n",
      "       [ 5.89197040e-01,  5.95391333e-01, -2.14503765e-01],\n",
      "       [ 5.98281920e-01,  6.30447745e-01, -1.87105566e-01]])}]\n"
     ]
    }
   ],
   "source": [
    "import pickle\n",
    "\n",
    "data_file_name = './hand_keypoints_dataset_v1.pkl'\n",
    "\n",
    "with open(data_file_name, 'rb') as file:\n",
    "    loaded_data = pickle.load(file)\n",
    "\n",
    "print(len(loaded_data))\n",
    "print(loaded_data[:3], loaded_data[-3:])"
   ]
  },
  {
   "cell_type": "code",
   "execution_count": null,
   "metadata": {},
   "outputs": [],
   "source": []
  },
  {
   "cell_type": "markdown",
   "metadata": {},
   "source": [
    "---"
   ]
  },
  {
   "cell_type": "code",
   "execution_count": null,
   "metadata": {},
   "outputs": [],
   "source": [
    "# https://unicode.org/emoji/charts/emoji-list.html#1f44c\n",
    "gesture_to_emoji = {\n",
    "    '': '',\n",
    "    '———': '———',\n",
    "    'ONE': '\\U0000261D',\n",
    "    'TWO': 'TWO',\n",
    "    'THREE': 'THREE',\n",
    "    'FOUR': 'FOUR',\n",
    "    'FIVE' : '\\U0001F590',\n",
    "    'OK': '\\U0001F44C',\n",
    "    'YEAH': '\\U0000270C',\n",
    "    'SPIDERMAN': '\\U0001F91F',\n",
    "    'ROCK': '\\U0001F918',\n",
    "    'FIST': '\\U00009270A'\n",
    "}\n",
    "\n",
    "# !pip install emoji\n",
    "import unicodedata\n",
    "# in python2 use u'\\U0001f603'\n",
    "print('\\U0001F44C')#U+1F44C\n",
    "print(gesture_to_emoji['FIVE'])"
   ]
  },
  {
   "cell_type": "code",
   "execution_count": null,
   "metadata": {
    "scrolled": true
   },
   "outputs": [],
   "source": [
    "def show_logo_alpha():\n",
    "    design_root = '/Users/izakharkin/Desktop/deepjest/_design'\n",
    "    logo_path = f'{design_root}/wix/jesture_ai_logo_comfortaa/jesture_logo_comfortaa-removebg.png'\n",
    "\n",
    "    logo_img, logo_alpha = load_image_with_alpha(logo_path, remove_borders=True)\n",
    "\n",
    "    plt.imshow(logo_img);\n",
    "    plt.show();\n",
    "    plt.imshow(logo_alpha, cmap='gray');\n",
    "    plt.show();"
   ]
  },
  {
   "cell_type": "code",
   "execution_count": null,
   "metadata": {},
   "outputs": [],
   "source": [
    "def test_overlay():\n",
    "    testimg = io.imread('./test.jpg')\n",
    "    testimg = overlay_alpha(logo_img, logo_alpha, testimg, loc=(10, 10), alpha=1.0)\n",
    "\n",
    "    idx_to_gesture = {1: 'one', 2: 'two', 3: 'three', 4: 'four', 5: 'five',\n",
    "                      6: 'fist', 7: 'piece', 8: 'love', 9: 'ok', 0: 'horns'}\n",
    "    help_textlist = [f'{k}: {v}' for k, v in idx_to_gesture.items()]\n",
    "    testimg = draw_multiline_text(testimg, help_textlist)\n",
    "\n",
    "    plt.figure(figsize=(10, 7))\n",
    "    plt.imshow(testimg);"
   ]
  },
  {
   "cell_type": "code",
   "execution_count": null,
   "metadata": {},
   "outputs": [],
   "source": [
    "def test_blackbox():\n",
    "    blackbox = io.imread('./blackbox.png')\n",
    "    orig_size = (blackbox.shape[1], blackbox.shape[0])\n",
    "    print('orig_size:', orig_size)\n",
    "    target_size = (orig_size[0] // 7, orig_size[1] // 7)\n",
    "    print('target_size:', target_size)\n",
    "    blackbox = cv2.resize(blackbox, target_size)\n",
    "    plt.imshow(blackbox);\n",
    "    plt.show();\n",
    "\n",
    "    blackbox_alpha = np.ones_like(blackbox)[:,:,0] * 255\n",
    "    blackbox_alpha[blackbox[:,:,0] == 255] = 0\n",
    "    plt.imshow(blackbox_alpha, cmap='gray');\n",
    "    plt.show();\n",
    "\n",
    "    testimg = overlay_alpha(blackbox, blackbox_alpha, testimg, loc=(10, 100), alpha=1.0)\n",
    "    plt.figure(figsize=(10, 7))\n",
    "    plt.imshow(testimg);"
   ]
  },
  {
   "cell_type": "code",
   "execution_count": null,
   "metadata": {},
   "outputs": [],
   "source": [
    "def test_pil_draw():\n",
    "    testimg = io.imread('./test.jpg')\n",
    "    testimg = Image.fromarray(testimg)\n",
    "    draw = ImageDraw.Draw(testimg, \"RGBA\")\n",
    "    draw.rectangle(((280, 10), (1010, 706)), fill=(0, 0, 0, 127))\n",
    "    draw.rectangle(((280, 10), (1010, 706)), outline=(63, 190, 235, 127))\n",
    "    plt.figure(figsize=(12, 10))\n",
    "    plt.imshow(np.array(testimg));"
   ]
  },
  {
   "cell_type": "code",
   "execution_count": null,
   "metadata": {},
   "outputs": [],
   "source": []
  },
  {
   "cell_type": "code",
   "execution_count": null,
   "metadata": {},
   "outputs": [],
   "source": []
  },
  {
   "cell_type": "code",
   "execution_count": null,
   "metadata": {},
   "outputs": [],
   "source": []
  }
 ],
 "metadata": {
  "kernelspec": {
   "display_name": "Python 3",
   "language": "python",
   "name": "python3"
  },
  "language_info": {
   "codemirror_mode": {
    "name": "ipython",
    "version": 3
   },
   "file_extension": ".py",
   "mimetype": "text/x-python",
   "name": "python",
   "nbconvert_exporter": "python",
   "pygments_lexer": "ipython3",
   "version": "3.7.4"
  },
  "toc": {
   "base_numbering": 1,
   "nav_menu": {},
   "number_sections": true,
   "sideBar": true,
   "skip_h1_title": false,
   "title_cell": "Table of Contents",
   "title_sidebar": "Contents",
   "toc_cell": false,
   "toc_position": {},
   "toc_section_display": true,
   "toc_window_display": false
  }
 },
 "nbformat": 4,
 "nbformat_minor": 2
}
