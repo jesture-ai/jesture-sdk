{
 "cells": [
  {
   "cell_type": "markdown",
   "metadata": {},
   "source": [
    "## Imports"
   ]
  },
  {
   "cell_type": "code",
   "execution_count": 1,
   "metadata": {},
   "outputs": [
    {
     "name": "stderr",
     "output_type": "stream",
     "text": [
      "(MainThread) Loaded backend module://ipykernel.pylab.backend_inline version unknown.\n"
     ]
    },
    {
     "name": "stdout",
     "output_type": "stream",
     "text": [
      "cv2.__version__: 4.1.2\n",
      "shutil.which(\"libSystem.B.dylib\"): None\n",
      "ctypes.CDLL(\"libSystem.B.dylib\")._name: libSystem.B.dylib\n",
      "ctypes.__version__: 1.1.0\n",
      "platform.mac_ver(): ('10.16', ('', '', ''), 'x86_64')\n"
     ]
    }
   ],
   "source": [
    "import matplotlib.pyplot as plt\n",
    "from skimage import io\n",
    "from PIL import Image, ImageDraw\n",
    "import numpy as np\n",
    "import cv2\n",
    "\n",
    "from numpy.ctypeslib import ndpointer\n",
    "import ctypes, ctypes.util\n",
    "import sys, platform\n",
    "import shutil\n",
    "\n",
    "import threading\n",
    "import logging\n",
    "import time\n",
    "\n",
    "from IPython import display\n",
    "\n",
    "from thread_camera import WebcamVideoStream\n",
    "from utils import load_image_with_alpha, overlay_alpha\n",
    "from utils import draw_text, draw_multiline_text, draw_skeleton\n",
    "\n",
    "print('cv2.__version__:', cv2.__version__)  # 4.1.2 recommended\n",
    "\n",
    "logging.basicConfig(level=logging.DEBUG, format='(%(threadName)-10s) %(message)s')\n",
    "\n",
    "ctypes.util.find_library(\"libSystem.B.dylib\")\n",
    "print('shutil.which(\"libSystem.B.dylib\"):', shutil.which(\"libSystem.B.dylib\"))\n",
    "print('ctypes.CDLL(\"libSystem.B.dylib\")._name:', ctypes.CDLL(\"libSystem.B.dylib\")._name)\n",
    "print('ctypes.__version__:', ctypes.__version__)\n",
    "print('platform.mac_ver():', platform.mac_ver())"
   ]
  },
  {
   "cell_type": "markdown",
   "metadata": {},
   "source": [
    "## Initialization"
   ]
  },
  {
   "cell_type": "code",
   "execution_count": 2,
   "metadata": {},
   "outputs": [
    {
     "name": "stderr",
     "output_type": "stream",
     "text": [
      "No traceback available to show.\n"
     ]
    }
   ],
   "source": [
    "%tb\n",
    "\n",
    "# https://solarianprogrammer.com/2019/07/18/python-using-c-cpp-libraries-ctypes/\n",
    "mylib_path = ctypes.util.find_library(\"full_cpu\")\n",
    "if not mylib_path:\n",
    "    print(\"Unable to find the specified library.\")\n",
    "    sys.exit()\n",
    "\n",
    "try:\n",
    "    jesture_lib = ctypes.CDLL(mylib_path)\n",
    "except OSError:\n",
    "    print(\"Unable to load the system C library\")\n",
    "    sys.exit()"
   ]
  },
  {
   "cell_type": "code",
   "execution_count": 3,
   "metadata": {},
   "outputs": [],
   "source": [
    "create_full_cpu = jesture_lib.CreateFullCpu\n",
    "create_full_cpu.argtypes = [ctypes.c_int]\n",
    "create_full_cpu.restype = ctypes.POINTER(ctypes.c_int)\n",
    "\n",
    "run_full_cpu = jesture_lib.RunFullCpu\n",
    "run_full_cpu.argtypes = [ctypes.POINTER(ctypes.c_int)]\n",
    "run_full_cpu.restype = None\n",
    "\n",
    "stop_full_cpu = jesture_lib.StopFullCpu\n",
    "stop_full_cpu.argtypes = [ctypes.POINTER(ctypes.c_int)]\n",
    "stop_full_cpu.restype = None\n",
    "\n",
    "dispose_full_cpu = jesture_lib.DisposeFullCpu\n",
    "dispose_full_cpu.argtypes = [ctypes.POINTER(ctypes.c_int)]\n",
    "dispose_full_cpu.restype = None\n",
    "\n",
    "# -------------- HANDS --------------\n",
    "\n",
    "# gestures\n",
    "\n",
    "get_dynamic_gesture = jesture_lib.GetCurrentDynamicGesture\n",
    "get_dynamic_gesture.argtypes = [ctypes.POINTER(ctypes.c_int)]\n",
    "get_dynamic_gesture.restype = ctypes.c_char_p\n",
    "\n",
    "get_dynamic_gesture_idx = jesture_lib.GetCurrentDynamicGestureIdx\n",
    "get_dynamic_gesture_idx.argtypes = [ctypes.POINTER(ctypes.c_int)]\n",
    "get_dynamic_gesture_idx.restype = ctypes.c_int\n",
    "\n",
    "get_static_left_gesture = jesture_lib.GetCurrentStaticLeftGesture\n",
    "get_static_left_gesture.argtypes = [ctypes.POINTER(ctypes.c_int)]\n",
    "get_static_left_gesture.restype = ctypes.c_char_p\n",
    "\n",
    "get_static_right_gesture = jesture_lib.GetCurrentStaticRightGesture\n",
    "get_static_right_gesture.argtypes = [ctypes.POINTER(ctypes.c_int)]\n",
    "get_static_right_gesture.restype = ctypes.c_char_p\n",
    "\n",
    "# absolute keypoints\n",
    "\n",
    "get_hand_left_keypoints = jesture_lib.GetCurrentHandLeftKeypoints\n",
    "get_hand_left_keypoints.argtypes = [ctypes.POINTER(ctypes.c_int)]\n",
    "get_hand_left_keypoints.restype = ndpointer(dtype=ctypes.c_double, shape=(63,))\n",
    "\n",
    "get_hand_right_keypoints = jesture_lib.GetCurrentHandRightKeypoints\n",
    "get_hand_right_keypoints.argtypes = [ctypes.POINTER(ctypes.c_int)]\n",
    "get_hand_right_keypoints.restype = ndpointer(dtype=ctypes.c_double, shape=(63,))\n",
    "\n",
    "# scaled screen size-independent keypoints\n",
    "\n",
    "get_scaled_left_keypoints = jesture_lib.GetCurrentScaledLeftKeypoints\n",
    "get_scaled_left_keypoints.argtypes = [ctypes.POINTER(ctypes.c_int)]\n",
    "get_scaled_left_keypoints.restype = ndpointer(dtype=ctypes.c_double, shape=(63,))\n",
    "\n",
    "get_scaled_right_keypoints = jesture_lib.GetCurrentScaledRightKeypoints\n",
    "get_scaled_right_keypoints.argtypes = [ctypes.POINTER(ctypes.c_int)]\n",
    "get_scaled_right_keypoints.restype = ndpointer(dtype=ctypes.c_double, shape=(63,))"
   ]
  },
  {
   "cell_type": "markdown",
   "metadata": {},
   "source": [
    "## Image routines"
   ]
  },
  {
   "cell_type": "code",
   "execution_count": 4,
   "metadata": {
    "scrolled": true
   },
   "outputs": [
    {
     "name": "stderr",
     "output_type": "stream",
     "text": [
      "(MainThread) STREAM b'IHDR' 16 13\n",
      "(MainThread) STREAM b'IDAT' 41 8192\n",
      "(MainThread) findfont: Matching :family=sans-serif:style=normal:variant=normal:weight=normal:stretch=normal:size=10.0.\n",
      "(MainThread) findfont: score(<Font 'DejaVu Sans Mono' (DejaVuSansMono-Bold.ttf) normal normal bold normal>) = 10.335\n",
      "(MainThread) findfont: score(<Font 'STIXNonUnicode' (STIXNonUni.ttf) normal normal regular normal>) = 10.05\n",
      "(MainThread) findfont: score(<Font 'DejaVu Serif' (DejaVuSerif-Italic.ttf) italic normal 400 normal>) = 11.05\n",
      "(MainThread) findfont: score(<Font 'DejaVu Sans Mono' (DejaVuSansMono.ttf) normal normal 400 normal>) = 10.05\n",
      "(MainThread) findfont: score(<Font 'DejaVu Sans Mono' (DejaVuSansMono-Oblique.ttf) oblique normal 400 normal>) = 11.05\n",
      "(MainThread) findfont: score(<Font 'cmmi10' (cmmi10.ttf) normal normal 400 normal>) = 10.05\n",
      "(MainThread) findfont: score(<Font 'STIXSizeFourSym' (STIXSizFourSymBol.ttf) normal normal bold normal>) = 10.335\n",
      "(MainThread) findfont: score(<Font 'DejaVu Sans' (DejaVuSans-Oblique.ttf) oblique normal 400 normal>) = 1.05\n",
      "(MainThread) findfont: score(<Font 'STIXGeneral' (STIXGeneral.ttf) normal normal regular normal>) = 10.05\n",
      "(MainThread) findfont: score(<Font 'STIXSizeTwoSym' (STIXSizTwoSymReg.ttf) normal normal regular normal>) = 10.05\n",
      "(MainThread) findfont: score(<Font 'cmex10' (cmex10.ttf) normal normal 400 normal>) = 10.05\n",
      "(MainThread) findfont: score(<Font 'DejaVu Sans Mono' (DejaVuSansMono-BoldOblique.ttf) oblique normal bold normal>) = 11.335\n",
      "(MainThread) findfont: score(<Font 'STIXGeneral' (STIXGeneralBolIta.ttf) italic normal bold normal>) = 11.335\n",
      "(MainThread) findfont: score(<Font 'DejaVu Sans' (DejaVuSans-Bold.ttf) normal normal bold normal>) = 0.33499999999999996\n",
      "(MainThread) findfont: score(<Font 'STIXNonUnicode' (STIXNonUniIta.ttf) italic normal 400 normal>) = 11.05\n",
      "(MainThread) findfont: score(<Font 'STIXSizeOneSym' (STIXSizOneSymReg.ttf) normal normal regular normal>) = 10.05\n",
      "(MainThread) findfont: score(<Font 'DejaVu Serif' (DejaVuSerif-BoldItalic.ttf) italic normal bold normal>) = 11.335\n",
      "(MainThread) findfont: score(<Font 'DejaVu Serif' (DejaVuSerif-Bold.ttf) normal normal bold normal>) = 10.335\n",
      "(MainThread) findfont: score(<Font 'STIXSizeThreeSym' (STIXSizThreeSymBol.ttf) normal normal bold normal>) = 10.335\n",
      "(MainThread) findfont: score(<Font 'STIXGeneral' (STIXGeneralBol.ttf) normal normal bold normal>) = 10.335\n",
      "(MainThread) findfont: score(<Font 'STIXSizeFiveSym' (STIXSizFiveSymReg.ttf) normal normal regular normal>) = 10.05\n",
      "(MainThread) findfont: score(<Font 'cmr10' (cmr10.ttf) normal normal 400 normal>) = 10.05\n",
      "(MainThread) findfont: score(<Font 'STIXSizeTwoSym' (STIXSizTwoSymBol.ttf) normal normal bold normal>) = 10.335\n",
      "(MainThread) findfont: score(<Font 'STIXGeneral' (STIXGeneralItalic.ttf) italic normal 400 normal>) = 11.05\n",
      "(MainThread) findfont: score(<Font 'STIXSizeOneSym' (STIXSizOneSymBol.ttf) normal normal bold normal>) = 10.335\n",
      "(MainThread) findfont: score(<Font 'DejaVu Sans' (DejaVuSans-BoldOblique.ttf) oblique normal bold normal>) = 1.335\n",
      "(MainThread) findfont: score(<Font 'DejaVu Sans Display' (DejaVuSansDisplay.ttf) normal normal 400 normal>) = 10.05\n",
      "(MainThread) findfont: score(<Font 'DejaVu Serif Display' (DejaVuSerifDisplay.ttf) normal normal 400 normal>) = 10.05\n",
      "(MainThread) findfont: score(<Font 'STIXSizeThreeSym' (STIXSizThreeSymReg.ttf) normal normal regular normal>) = 10.05\n",
      "(MainThread) findfont: score(<Font 'cmsy10' (cmsy10.ttf) normal normal 400 normal>) = 10.05\n",
      "(MainThread) findfont: score(<Font 'STIXNonUnicode' (STIXNonUniBolIta.ttf) italic normal bold normal>) = 11.335\n",
      "(MainThread) findfont: score(<Font 'STIXSizeFourSym' (STIXSizFourSymReg.ttf) normal normal regular normal>) = 10.05\n",
      "(MainThread) findfont: score(<Font 'cmb10' (cmb10.ttf) normal normal 400 normal>) = 10.05\n",
      "(MainThread) findfont: score(<Font 'DejaVu Serif' (DejaVuSerif.ttf) normal normal 400 normal>) = 10.05\n",
      "(MainThread) findfont: score(<Font 'STIXNonUnicode' (STIXNonUniBol.ttf) normal normal bold normal>) = 10.335\n",
      "(MainThread) findfont: score(<Font 'cmss10' (cmss10.ttf) normal normal 400 normal>) = 10.05\n",
      "(MainThread) findfont: score(<Font 'DejaVu Sans' (DejaVuSans.ttf) normal normal 400 normal>) = 0.05\n",
      "(MainThread) findfont: score(<Font 'cmtt10' (cmtt10.ttf) normal normal 400 normal>) = 10.05\n",
      "(MainThread) findfont: score(<Font 'Savoye LET' (Savoye LET.ttc) normal normal 400 normal>) = 10.05\n",
      "(MainThread) findfont: score(<Font 'STIXSizeOneSym' (STIXSizOneSymBol.otf) normal normal bold normal>) = 10.335\n",
      "(MainThread) findfont: score(<Font 'STIXSizeThreeSym' (STIXSizThreeSymBol.otf) normal normal bold normal>) = 10.335\n",
      "(MainThread) findfont: score(<Font 'STIXSizeThreeSym' (STIXSizThreeSymReg.otf) normal normal regular normal>) = 10.05\n",
      "(MainThread) findfont: score(<Font 'Euphemia UCAS' (EuphemiaCAS.ttc) normal normal 400 normal>) = 10.05\n",
      "(MainThread) findfont: score(<Font 'Bradley Hand' (Bradley Hand Bold.ttf) normal normal bold normal>) = 10.335\n",
      "(MainThread) findfont: score(<Font 'Brush Script MT' (Brush Script.ttf) italic normal 400 normal>) = 11.05\n",
      "(MainThread) findfont: score(<Font 'Kohinoor Bangla' (KohinoorBangla.ttc) normal normal 400 normal>) = 10.05\n",
      "(MainThread) findfont: score(<Font 'System Font' (SFNSDisplay-SemiboldItalic.otf) italic normal semibold normal>) = 11.24\n",
      "(MainThread) findfont: score(<Font 'Impact' (Impact.ttf) normal normal 400 normal>) = 10.05\n",
      "(MainThread) findfont: score(<Font 'Apple Braille' (Apple Braille Pinpoint 6 Dot.ttf) normal normal 400 normal>) = 10.05\n",
      "(MainThread) findfont: score(<Font 'Gill Sans' (GillSans.ttc) normal normal 400 normal>) = 10.05\n",
      "(MainThread) findfont: score(<Font 'Hiragino Sans' (ヒラギノ角ゴシック W0.ttc) normal normal 400 normal>) = 10.05\n",
      "(MainThread) findfont: score(<Font 'Kefa' (Kefa.ttc) normal normal regular normal>) = 10.05\n",
      "(MainThread) findfont: score(<Font 'Georgia' (Georgia Italic.ttf) italic normal 400 normal>) = 11.05\n",
      "(MainThread) findfont: score(<Font 'Thonburi' (Thonburi.ttc) normal normal 400 normal>) = 10.05\n",
      "(MainThread) findfont: score(<Font '.SF Compact Rounded' (SFCompactRounded-Ultralight.otf) normal normal ultralight normal>) = 10.335\n",
      "(MainThread) findfont: score(<Font 'Mishafi Gold' (Mishafi Gold.ttf) normal normal regular normal>) = 10.05\n",
      "(MainThread) findfont: score(<Font 'Wingdings' (Wingdings.ttf) normal normal 400 normal>) = 10.05\n",
      "(MainThread) findfont: score(<Font 'STIXSizeFourSym' (STIXSizFourSymReg.otf) normal normal regular normal>) = 10.05\n",
      "(MainThread) findfont: score(<Font 'Georgia' (Georgia.ttf) normal normal 400 normal>) = 10.05\n",
      "(MainThread) findfont: score(<Font 'Shree Devanagari 714' (Shree714.ttc) normal normal 400 normal>) = 10.05\n",
      "(MainThread) findfont: score(<Font 'Trebuchet MS' (Trebuchet MS Italic.ttf) italic normal 400 normal>) = 11.05\n",
      "(MainThread) findfont: score(<Font 'Wingdings 2' (Wingdings 2.ttf) normal normal 400 normal>) = 10.05\n",
      "(MainThread) findfont: score(<Font 'Arial Narrow' (Arial Narrow Italic.ttf) italic normal 400 condensed>) = 11.25\n",
      "(MainThread) findfont: score(<Font 'Sathu' (Sathu.ttf) normal normal 400 normal>) = 10.05\n",
      "(MainThread) findfont: score(<Font 'STIXVariants' (STIXVar.otf) normal normal regular normal>) = 10.05\n",
      "(MainThread) findfont: score(<Font '.SF NS Text Condensed' (SFNSTextCondensed-Medium.otf) normal normal medium condensed>) = 10.344999999999999\n",
      "(MainThread) findfont: score(<Font 'Comic Sans MS' (Comic Sans MS Bold.ttf) normal normal bold normal>) = 10.335\n",
      "(MainThread) findfont: score(<Font '.SF NS Display Condensed' (SFNSDisplayCondensed-Black.otf) normal normal black condensed>) = 10.725\n",
      "(MainThread) findfont: score(<Font '.SF Compact Display' (SFCompactDisplay-Heavy.otf) normal normal heavy normal>) = 10.43\n",
      "(MainThread) findfont: score(<Font '.SF Compact Rounded' (SFCompactRounded-Medium.otf) normal normal medium normal>) = 10.145\n",
      "(MainThread) findfont: score(<Font 'Muna' (Muna.ttc) normal normal regular normal>) = 10.05\n",
      "(MainThread) findfont: score(<Font 'Apple Braille' (Apple Braille Outline 8 Dot.ttf) normal normal 400 normal>) = 10.05\n",
      "(MainThread) findfont: score(<Font 'Trebuchet MS' (Trebuchet MS Bold.ttf) normal normal bold normal>) = 10.335\n",
      "(MainThread) findfont: score(<Font '.SF NS Display Condensed' (SFNSDisplayCondensed-Thin.otf) normal normal 400 condensed>) = 10.25\n"
     ]
    },
    {
     "name": "stderr",
     "output_type": "stream",
     "text": [
      "(MainThread) findfont: score(<Font '.SF Compact Rounded' (SFCompactRounded-Heavy.otf) normal normal heavy normal>) = 10.43\n",
      "(MainThread) findfont: score(<Font 'Myanmar Sangam MN' (Myanmar Sangam MN.ttc) normal normal 400 normal>) = 10.05\n",
      "(MainThread) findfont: score(<Font 'STIXGeneral' (STIXGeneralBol.otf) normal normal bold normal>) = 10.335\n",
      "(MainThread) findfont: score(<Font '.SF NS Text Condensed' (SFNSTextCondensed-Semibold.otf) normal normal semibold condensed>) = 10.44\n",
      "(MainThread) findfont: score(<Font 'System Font' (SFNSDisplay-MediumItalic.otf) italic normal medium normal>) = 11.145\n",
      "(MainThread) findfont: score(<Font 'System Font' (SFNSDisplay-BlackItalic.otf) italic normal black normal>) = 11.525\n",
      "(MainThread) findfont: score(<Font 'Bangla MN' (Bangla MN.ttc) normal normal 400 normal>) = 10.05\n",
      "(MainThread) findfont: score(<Font 'STIXIntegralsUpSm' (STIXIntUpSmBol.otf) normal normal bold normal>) = 10.335\n",
      "(MainThread) findfont: score(<Font 'Malayalam MN' (Malayalam MN.ttc) normal normal 400 normal>) = 10.05\n",
      "(MainThread) findfont: score(<Font 'Tamil MN' (Tamil MN.ttc) normal normal 400 normal>) = 10.05\n",
      "(MainThread) findfont: score(<Font 'Oriya Sangam MN' (Oriya Sangam MN.ttc) normal normal 400 normal>) = 10.05\n",
      "(MainThread) findfont: score(<Font '.Arabic UI Display' (ArabicUIDisplay.ttc) normal normal black normal>) = 10.525\n",
      "(MainThread) findfont: score(<Font '.SF Compact Display' (SFCompactDisplay-Light.otf) normal normal light normal>) = 10.24\n",
      "(MainThread) findfont: score(<Font 'System Font' (SFNSDisplay-RegularItalic.otf) italic normal 400 normal>) = 11.05\n",
      "(MainThread) findfont: score(<Font 'Geeza Pro' (GeezaPro.ttc) normal normal regular normal>) = 10.05\n",
      "(MainThread) findfont: score(<Font 'Courier New' (Courier New Bold.ttf) normal normal bold normal>) = 10.335\n",
      "(MainThread) findfont: score(<Font 'Apple Symbols' (Apple Symbols.ttf) normal normal 400 normal>) = 10.05\n",
      "(MainThread) findfont: score(<Font 'Tahoma' (Tahoma.ttf) normal normal 400 normal>) = 10.05\n",
      "(MainThread) findfont: score(<Font 'Courier New' (Courier New Italic.ttf) italic normal 400 normal>) = 11.05\n",
      "(MainThread) findfont: score(<Font 'Didot' (Didot.ttc) normal normal 400 normal>) = 10.05\n",
      "(MainThread) findfont: score(<Font 'Verdana' (Verdana.ttf) normal normal 400 normal>) = 3.6863636363636365\n",
      "(MainThread) findfont: score(<Font 'Avenir Next' (Avenir Next.ttc) normal normal bold normal>) = 10.335\n",
      "(MainThread) findfont: score(<Font 'Lao MN' (Lao MN.ttc) normal normal 400 normal>) = 10.05\n",
      "(MainThread) findfont: score(<Font 'Arial' (Arial Italic.ttf) italic normal 400 normal>) = 7.413636363636363\n",
      "(MainThread) findfont: score(<Font '.SF NS Symbols' (SFNSSymbols-Ultralight.otf) normal normal ultralight normal>) = 10.335\n",
      "(MainThread) findfont: score(<Font 'Hiragino Sans' (ヒラギノ角ゴシック W7.ttc) normal normal 700 normal>) = 10.335\n",
      "(MainThread) findfont: score(<Font 'Hiragino Sans' (ヒラギノ角ゴシック W8.ttc) normal normal 700 normal>) = 10.335\n",
      "(MainThread) findfont: score(<Font '.SF Compact Display' (SFCompactDisplay-Black.otf) normal normal black normal>) = 10.525\n",
      "(MainThread) findfont: score(<Font 'Seravek' (Seravek.ttc) normal normal 400 normal>) = 10.05\n",
      "(MainThread) findfont: score(<Font '.SF Compact Text' (SFCompactText-LightItalic.otf) italic normal light normal>) = 11.24\n",
      "(MainThread) findfont: score(<Font '.SF NS Symbols' (SFNSSymbols-Regular.otf) normal normal regular normal>) = 10.05\n",
      "(MainThread) findfont: score(<Font '.SF Compact Text' (SFCompactText-MediumItalic.otf) italic normal medium normal>) = 11.145\n",
      "(MainThread) findfont: score(<Font 'Papyrus' (Papyrus.ttc) normal normal 400 condensed>) = 10.25\n",
      "(MainThread) findfont: score(<Font 'STIXIntegralsUpD' (STIXIntUpDReg.otf) normal normal regular normal>) = 10.05\n",
      "(MainThread) findfont: score(<Font 'STIXSizeOneSym' (STIXSizOneSymReg.otf) normal normal regular normal>) = 10.05\n",
      "(MainThread) findfont: score(<Font '.SF Compact Rounded' (SFCompactRounded-Black.otf) normal normal black normal>) = 10.525\n",
      "(MainThread) findfont: score(<Font 'Avenir' (Avenir.ttc) normal normal book normal>) = 10.05\n",
      "(MainThread) findfont: score(<Font 'Cochin' (Cochin.ttc) normal normal 400 normal>) = 10.05\n",
      "(MainThread) findfont: score(<Font 'Palatino' (Palatino.ttc) normal normal 400 normal>) = 10.05\n",
      "(MainThread) findfont: score(<Font 'System Font' (SFNSDisplay-ThinG2.otf) normal normal 400 normal>) = 10.05\n",
      "(MainThread) findfont: score(<Font 'System Font' (SFNSDisplay-ThinG3.otf) normal normal 400 normal>) = 10.05\n",
      "(MainThread) findfont: score(<Font 'Apple Braille' (Apple Braille Pinpoint 8 Dot.ttf) normal normal 400 normal>) = 10.05\n",
      "(MainThread) findfont: score(<Font '.SF NS Display Condensed' (SFNSDisplayCondensed-Medium.otf) normal normal medium condensed>) = 10.344999999999999\n",
      "(MainThread) findfont: score(<Font '.SF Compact Text' (SFCompactText-HeavyItalic.otf) italic normal heavy normal>) = 11.43\n",
      "(MainThread) findfont: score(<Font 'Beirut' (Beirut.ttc) normal normal regular normal>) = 10.05\n",
      "(MainThread) findfont: score(<Font 'Hiragino Sans' (ヒラギノ角ゴシック W6.ttc) normal normal 700 normal>) = 10.335\n",
      "(MainThread) findfont: score(<Font 'Zapf Dingbats' (ZapfDingbats.ttf) normal normal 400 normal>) = 10.05\n",
      "(MainThread) findfont: score(<Font 'Tamil Sangam MN' (Tamil Sangam MN.ttc) normal normal 400 normal>) = 10.05\n",
      "(MainThread) findfont: score(<Font 'Al Nile' (Al Nile.ttc) normal normal 400 normal>) = 10.05\n",
      "(MainThread) findfont: score(<Font 'STIXSizeFourSym' (STIXSizFourSymBol.otf) normal normal bold normal>) = 10.335\n",
      "(MainThread) findfont: score(<Font '.SF Compact Text' (SFCompactText-Light.otf) normal normal light normal>) = 10.24\n",
      "(MainThread) findfont: score(<Font 'System Font' (SFNSTextItalic.ttf) italic normal 400 normal>) = 11.05\n",
      "(MainThread) findfont: score(<Font 'STIXGeneral' (STIXGeneral.otf) normal normal regular normal>) = 10.05\n",
      "(MainThread) findfont: score(<Font 'Menlo' (Menlo.ttc) normal normal regular normal>) = 10.05\n",
      "(MainThread) findfont: score(<Font 'Kannada Sangam MN' (Kannada Sangam MN.ttc) normal normal 400 normal>) = 10.05\n",
      "(MainThread) findfont: score(<Font 'Zapfino' (Zapfino.ttf) normal normal 400 normal>) = 10.05\n",
      "(MainThread) findfont: score(<Font 'Rockwell' (Rockwell.ttc) normal normal 400 normal>) = 10.05\n",
      "(MainThread) findfont: score(<Font 'Kokonor' (Kokonor.ttf) normal normal regular normal>) = 10.05\n",
      "(MainThread) findfont: score(<Font 'Optima' (Optima.ttc) normal normal regular normal>) = 10.05\n",
      "(MainThread) findfont: score(<Font '.SF Compact Display' (SFCompactDisplay-Bold.otf) normal normal bold normal>) = 10.335\n",
      "(MainThread) findfont: score(<Font 'PT Serif Caption' (PTSerifCaption.ttc) normal normal 400 normal>) = 10.05\n",
      "(MainThread) findfont: score(<Font 'PingFang HK' (PingFang.ttc) normal normal regular normal>) = 10.05\n",
      "(MainThread) findfont: score(<Font '.SF Compact Rounded' (SFCompactRounded-Regular.otf) normal normal regular normal>) = 10.05\n",
      "(MainThread) findfont: score(<Font '.SF NS Text Condensed' (SFNSTextCondensed-Heavy.otf) normal normal heavy condensed>) = 10.629999999999999\n",
      "(MainThread) findfont: score(<Font '.Arabic UI Text' (ArabicUIText.ttc) normal normal regular normal>) = 10.05\n",
      "(MainThread) findfont: score(<Font 'STIXGeneral' (STIXGeneralItalic.otf) italic normal 400 normal>) = 11.05\n",
      "(MainThread) findfont: score(<Font 'Georgia' (Georgia Bold Italic.ttf) italic normal bold normal>) = 11.335\n",
      "(MainThread) findfont: score(<Font 'Verdana' (Verdana Bold.ttf) normal normal bold normal>) = 3.9713636363636367\n",
      "(MainThread) findfont: score(<Font 'Farah' (Farah.ttc) normal normal regular normal>) = 10.05\n",
      "(MainThread) findfont: score(<Font 'STIXIntegralsSm' (STIXIntSmReg.otf) normal normal regular normal>) = 10.05\n",
      "(MainThread) findfont: score(<Font 'System Font' (SFNSDisplay-BoldItalic.otf) italic normal bold normal>) = 11.335\n",
      "(MainThread) findfont: score(<Font '.SF Compact Rounded' (SFCompactRounded-Bold.otf) normal normal bold normal>) = 10.335\n",
      "(MainThread) findfont: score(<Font '.SF Compact Text' (SFCompactText-BoldItalic.otf) italic normal bold normal>) = 11.335\n",
      "(MainThread) findfont: score(<Font 'Tahoma' (Tahoma Bold.ttf) normal normal bold normal>) = 10.335\n",
      "(MainThread) findfont: score(<Font 'Symbol' (Symbol.ttf) normal normal 400 normal>) = 10.05\n"
     ]
    },
    {
     "name": "stderr",
     "output_type": "stream",
     "text": [
      "(MainThread) findfont: score(<Font 'Copperplate' (Copperplate.ttc) normal normal 400 normal>) = 10.05\n",
      "(MainThread) findfont: score(<Font 'Gurmukhi Sangam MN' (Gurmukhi Sangam MN.ttc) normal normal 400 normal>) = 10.05\n",
      "(MainThread) findfont: score(<Font 'Hiragino Sans' (ヒラギノ角ゴシック W9.ttc) normal normal 700 normal>) = 10.335\n",
      "(MainThread) findfont: score(<Font 'STIXIntegralsSm' (STIXIntSmBol.otf) normal normal bold normal>) = 10.335\n",
      "(MainThread) findfont: score(<Font 'Skia' (Skia.ttf) normal normal 400 normal>) = 10.05\n",
      "(MainThread) findfont: score(<Font 'SignPainter' (SignPainter.ttc) normal normal 400 normal>) = 10.05\n",
      "(MainThread) findfont: score(<Font 'Gurmukhi MT' (Gurmukhi.ttf) normal normal 400 normal>) = 10.05\n",
      "(MainThread) findfont: score(<Font 'Trebuchet MS' (Trebuchet MS Bold Italic.ttf) italic normal bold normal>) = 11.335\n",
      "(MainThread) findfont: score(<Font '.SF NS Symbols' (SFNSSymbols-Thin.otf) normal normal 400 normal>) = 10.05\n",
      "(MainThread) findfont: score(<Font '.SF Compact Display' (SFCompactDisplay-Ultralight.otf) normal normal ultralight normal>) = 10.335\n",
      "(MainThread) findfont: score(<Font 'STIXNonUnicode' (STIXNonUniIta.otf) italic normal 400 normal>) = 11.05\n",
      "(MainThread) findfont: score(<Font 'Times New Roman' (Times New Roman.ttf) normal normal roman normal>) = 10.145\n",
      "(MainThread) findfont: score(<Font 'ITF Devanagari' (ITFDevanagari.ttc) normal normal book normal>) = 10.05\n",
      "(MainThread) findfont: score(<Font 'Devanagari MT' (DevanagariMT.ttc) normal normal 400 normal>) = 10.05\n",
      "(MainThread) findfont: score(<Font 'System Font' (SFNSDisplay-UltralightItalic.otf) italic normal ultralight normal>) = 11.335\n",
      "(MainThread) findfont: score(<Font 'Krungthep' (Krungthep.ttf) normal normal 400 normal>) = 10.05\n",
      "(MainThread) findfont: score(<Font 'Courier New' (Courier New.ttf) normal normal 400 normal>) = 10.05\n",
      "(MainThread) findfont: score(<Font 'Athelas' (Athelas.ttc) normal normal regular normal>) = 10.05\n",
      "(MainThread) findfont: score(<Font 'Heiti TC' (STHeiti Medium.ttc) normal normal medium normal>) = 10.145\n",
      "(MainThread) findfont: score(<Font 'Times New Roman' (Times New Roman Bold.ttf) normal normal roman normal>) = 10.145\n",
      "(MainThread) findfont: score(<Font 'Helvetica' (Helvetica.ttc) normal normal 400 normal>) = 7.322727272727273\n",
      "(MainThread) findfont: score(<Font 'Avenir Next Condensed' (Avenir Next Condensed.ttc) normal normal bold condensed>) = 10.535\n",
      "(MainThread) findfont: score(<Font 'DIN Condensed' (DIN Condensed Bold.ttf) normal normal bold condensed>) = 10.535\n",
      "(MainThread) findfont: score(<Font '.SF Compact Display' (SFCompactDisplay-Medium.otf) normal normal medium normal>) = 10.145\n",
      "(MainThread) findfont: score(<Font 'Khmer Sangam MN' (Khmer Sangam MN.ttf) normal normal 400 normal>) = 10.05\n",
      "(MainThread) findfont: score(<Font '.SF NS Symbols' (SFNSSymbols-Heavy.otf) normal normal heavy normal>) = 10.43\n",
      "(MainThread) findfont: score(<Font 'Andale Mono' (Andale Mono.ttf) normal normal 400 normal>) = 10.05\n",
      "(MainThread) findfont: score(<Font 'Nadeem' (Nadeem.ttc) normal normal regular normal>) = 10.05\n",
      "(MainThread) findfont: score(<Font '.SF Compact Text' (SFCompactText-SemiboldItalic.otf) italic normal semibold normal>) = 11.24\n",
      "(MainThread) findfont: score(<Font 'Baskerville' (Baskerville.ttc) normal normal 400 normal>) = 10.05\n",
      "(MainThread) findfont: score(<Font 'Iowan Old Style' (Iowan Old Style.ttc) normal normal roman normal>) = 10.145\n",
      "(MainThread) findfont: score(<Font 'STIXNonUnicode' (STIXNonUni.otf) normal normal regular normal>) = 10.05\n",
      "(MainThread) findfont: score(<Font 'Hiragino Sans' (ヒラギノ角ゴシック W5.ttc) normal normal 700 normal>) = 10.335\n",
      "(MainThread) findfont: score(<Font 'Superclarendon' (SuperClarendon.ttc) normal normal regular normal>) = 10.05\n",
      "(MainThread) findfont: score(<Font '.SF NS Symbols' (SFNSSymbols-Bold.otf) normal normal bold normal>) = 10.335\n",
      "(MainThread) findfont: score(<Font 'Sinhala Sangam MN' (Sinhala Sangam MN.ttc) normal normal 400 normal>) = 10.05\n",
      "(MainThread) findfont: score(<Font 'Arial Black' (Arial Black.ttf) normal normal black normal>) = 10.525\n",
      "(MainThread) findfont: score(<Font 'Kohinoor Devanagari' (Kohinoor.ttc) normal normal regular normal>) = 10.05\n",
      "(MainThread) findfont: score(<Font '.SF Compact Text' (SFCompactText-RegularItalic.otf) italic normal 400 normal>) = 11.05\n",
      "(MainThread) findfont: score(<Font 'Verdana' (Verdana Bold Italic.ttf) italic normal bold normal>) = 4.971363636363637\n",
      "(MainThread) findfont: score(<Font 'STIXGeneral' (STIXGeneralBolIta.otf) italic normal bold normal>) = 11.335\n",
      "(MainThread) findfont: score(<Font 'STIXIntegralsD' (STIXIntDBol.otf) normal normal bold normal>) = 10.335\n",
      "(MainThread) findfont: score(<Font 'Heiti TC' (STHeiti Light.ttc) normal normal light normal>) = 10.24\n",
      "(MainThread) findfont: score(<Font 'STIXIntegralsUpD' (STIXIntUpDBol.otf) normal normal bold normal>) = 10.335\n",
      "(MainThread) findfont: score(<Font '.LastResort' (LastResort.otf) normal normal 400 normal>) = 10.05\n",
      "(MainThread) findfont: score(<Font 'InaiMathi' (InaiMathi-MN.ttc) normal normal 400 normal>) = 10.05\n",
      "(MainThread) findfont: score(<Font 'Gujarati MT' (GujaratiMT.ttc) normal normal 400 normal>) = 10.05\n",
      "(MainThread) findfont: score(<Font 'Arial Narrow' (Arial Narrow Bold Italic.ttf) italic normal bold condensed>) = 11.535\n",
      "(MainThread) findfont: score(<Font 'Sinhala MN' (Sinhala MN.ttc) normal normal 400 normal>) = 10.05\n",
      "(MainThread) findfont: score(<Font 'Oriya MN' (Oriya MN.ttc) normal normal 400 normal>) = 10.05\n",
      "(MainThread) findfont: score(<Font 'Arial Narrow' (Arial Narrow Bold.ttf) normal normal bold condensed>) = 10.535\n",
      "(MainThread) findfont: score(<Font '.SF Compact Text' (SFCompactText-Medium.otf) normal normal medium normal>) = 10.145\n",
      "(MainThread) findfont: score(<Font 'Lucida Grande' (LucidaGrande.ttc) normal normal 400 normal>) = 2.777272727272727\n",
      "(MainThread) findfont: score(<Font 'Hiragino Sans GB' (Hiragino Sans GB.ttc) normal normal 400 normal>) = 10.05\n",
      "(MainThread) findfont: score(<Font 'Baghdad' (Baghdad.ttc) normal normal regular normal>) = 10.05\n",
      "(MainThread) findfont: score(<Font 'Charter' (Charter.ttc) normal normal roman normal>) = 10.145\n",
      "(MainThread) findfont: score(<Font 'Malayalam Sangam MN' (Malayalam Sangam MN.ttc) normal normal 400 normal>) = 10.05\n",
      "(MainThread) findfont: score(<Font 'Georgia' (Georgia Bold.ttf) normal normal bold normal>) = 10.335\n",
      "(MainThread) findfont: score(<Font 'Hiragino Sans' (ヒラギノ角ゴシック W3.ttc) normal normal 400 normal>) = 10.05\n",
      "(MainThread) findfont: score(<Font 'Al Tarikh' (Al Tarikh.ttc) normal normal regular normal>) = 10.05\n",
      "(MainThread) findfont: score(<Font 'Sana' (Sana.ttc) normal normal regular normal>) = 10.05\n",
      "(MainThread) findfont: score(<Font 'Verdana' (Verdana Italic.ttf) italic normal 400 normal>) = 4.6863636363636365\n",
      "(MainThread) findfont: score(<Font 'Phosphate' (Phosphate.ttc) normal normal 400 normal>) = 10.05\n",
      "(MainThread) findfont: score(<Font 'STIXSizeFiveSym' (STIXSizFiveSymReg.otf) normal normal regular normal>) = 10.05\n",
      "(MainThread) findfont: score(<Font 'Hoefler Text' (Hoefler Text Ornaments.ttf) normal normal 400 normal>) = 10.05\n",
      "(MainThread) findfont: score(<Font 'Arial Hebrew' (ArialHB.ttc) normal normal 400 normal>) = 10.05\n",
      "(MainThread) findfont: score(<Font 'Comic Sans MS' (Comic Sans MS.ttf) normal normal 400 normal>) = 10.05\n",
      "(MainThread) findfont: score(<Font 'Bodoni Ornaments' (Bodoni Ornaments.ttf) normal normal 400 normal>) = 10.05\n",
      "(MainThread) findfont: score(<Font 'Chalkboard SE' (ChalkboardSE.ttc) normal normal light normal>) = 10.24\n",
      "(MainThread) findfont: score(<Font 'Telugu MN' (Telugu MN.ttc) normal normal 400 normal>) = 10.05\n",
      "(MainThread) findfont: score(<Font 'Kohinoor Telugu' (KohinoorTelugu.ttc) normal normal 400 normal>) = 10.05\n",
      "(MainThread) findfont: score(<Font 'Hiragino Mincho ProN' (ヒラギノ明朝 ProN.ttc) normal normal 400 normal>) = 10.05\n",
      "(MainThread) findfont: score(<Font 'Diwan Kufi' (Diwan Kufi.ttc) normal normal regular normal>) = 10.05\n",
      "(MainThread) findfont: score(<Font 'Silom' (Silom.ttf) normal normal 400 normal>) = 10.05\n",
      "(MainThread) findfont: score(<Font 'Webdings' (Webdings.ttf) normal normal 400 normal>) = 10.05\n",
      "(MainThread) findfont: score(<Font 'Diwan Thuluth' (Diwan Thuluth.ttf) normal normal regular normal>) = 10.05\n"
     ]
    },
    {
     "name": "stderr",
     "output_type": "stream",
     "text": [
      "(MainThread) findfont: score(<Font 'STIXNonUnicode' (STIXNonUniBolIta.otf) italic normal bold normal>) = 11.335\n",
      "(MainThread) findfont: score(<Font '.SF Compact Display' (SFCompactDisplay-Regular.otf) normal normal regular normal>) = 10.05\n",
      "(MainThread) findfont: score(<Font '.Helvetica Neue DeskInterface' (HelveticaNeueDeskInterface.ttc) normal normal regular normal>) = 10.05\n",
      "(MainThread) findfont: score(<Font 'Chalkduster' (Chalkduster.ttf) normal normal 400 normal>) = 10.05\n",
      "(MainThread) findfont: score(<Font '.SF NS Text Condensed' (SFNSTextCondensed-Light.otf) normal normal light condensed>) = 10.44\n",
      "(MainThread) findfont: score(<Font '.Aqua Kana' (AquaKana.ttc) normal normal 400 normal>) = 10.05\n",
      "(MainThread) findfont: score(<Font 'STIXSizeTwoSym' (STIXSizTwoSymBol.otf) normal normal bold normal>) = 10.335\n",
      "(MainThread) findfont: score(<Font 'Bodoni 72 Smallcaps' (Bodoni 72 Smallcaps Book.ttf) normal normal book normal>) = 10.05\n",
      "(MainThread) findfont: score(<Font 'Apple Braille' (Apple Braille.ttf) normal normal 400 normal>) = 10.05\n",
      "(MainThread) findfont: score(<Font '.SF NS Display Condensed' (SFNSDisplayCondensed-Regular.otf) normal normal regular condensed>) = 10.25\n",
      "(MainThread) findfont: score(<Font 'PT Sans' (PTSans.ttc) normal normal 400 normal>) = 10.05\n",
      "(MainThread) findfont: score(<Font 'STIXSizeTwoSym' (STIXSizTwoSymReg.otf) normal normal regular normal>) = 10.05\n",
      "(MainThread) findfont: score(<Font 'AppleGothic' (AppleGothic.ttf) normal normal regular normal>) = 10.05\n",
      "(MainThread) findfont: score(<Font '.SF NS Display Condensed' (SFNSDisplayCondensed-Light.otf) normal normal light condensed>) = 10.44\n",
      "(MainThread) findfont: score(<Font 'Kailasa' (Kailasa.ttc) normal normal regular normal>) = 10.05\n",
      "(MainThread) findfont: score(<Font 'Gujarati Sangam MN' (Gujarati Sangam MN.ttc) normal normal 400 normal>) = 10.05\n",
      "(MainThread) findfont: score(<Font '.SF Compact Rounded' (SFCompactRounded-Thin.otf) normal normal 400 normal>) = 10.05\n",
      "(MainThread) findfont: score(<Font '.SF NS Symbols' (SFNSSymbols-Light.otf) normal normal light normal>) = 10.24\n",
      "(MainThread) findfont: score(<Font 'Sukhumvit Set' (SukhumvitSet.ttc) normal normal 400 normal>) = 10.05\n",
      "(MainThread) findfont: score(<Font 'Marion' (Marion.ttc) normal normal regular normal>) = 10.05\n",
      "(MainThread) findfont: score(<Font 'Bodoni 72 Oldstyle' (Bodoni 72 OS.ttc) normal normal book normal>) = 10.05\n",
      "(MainThread) findfont: score(<Font 'Wingdings 3' (Wingdings 3.ttf) normal normal 400 normal>) = 10.05\n",
      "(MainThread) findfont: score(<Font 'Arial Narrow' (Arial Narrow.ttf) normal normal 400 condensed>) = 10.25\n",
      "(MainThread) findfont: score(<Font 'STIXNonUnicode' (STIXNonUniBol.otf) normal normal bold normal>) = 10.335\n",
      "(MainThread) findfont: score(<Font 'Arial' (Arial Bold.ttf) normal normal bold normal>) = 6.698636363636363\n",
      "(MainThread) findfont: score(<Font '.SF Compact Rounded' (SFCompactRounded-Semibold.otf) normal normal semibold normal>) = 10.24\n",
      "(MainThread) findfont: score(<Font '.SF NS Display Condensed' (SFNSDisplayCondensed-Semibold.otf) normal normal semibold condensed>) = 10.44\n",
      "(MainThread) findfont: score(<Font 'Al Bayan' (AlBayan.ttc) normal normal 400 normal>) = 10.05\n",
      "(MainThread) findfont: score(<Font 'Microsoft Sans Serif' (Microsoft Sans Serif.ttf) normal normal 400 normal>) = 10.05\n",
      "(MainThread) findfont: score(<Font 'Myanmar MN' (Myanmar MN.ttc) normal normal 400 normal>) = 10.05\n",
      "(MainThread) findfont: score(<Font 'STIXVariants' (STIXVarBol.otf) normal normal bold normal>) = 10.335\n",
      "(MainThread) findfont: score(<Font 'Apple SD Gothic Neo' (AppleSDGothicNeo.ttc) normal normal regular normal>) = 10.05\n",
      "(MainThread) findfont: score(<Font 'Bodoni 72' (Bodoni 72.ttc) normal normal book normal>) = 10.05\n",
      "(MainThread) findfont: score(<Font '.SF NS Symbols' (SFNSSymbols-Semibold.otf) normal normal semibold normal>) = 10.24\n",
      "(MainThread) findfont: score(<Font 'Waseem' (Waseem.ttc) normal normal regular normal>) = 10.05\n",
      "(MainThread) findfont: score(<Font 'Noteworthy' (Noteworthy.ttc) normal normal light normal>) = 10.24\n",
      "(MainThread) findfont: score(<Font 'Helvetica Neue' (HelveticaNeue.ttc) normal normal 400 normal>) = 10.05\n",
      "(MainThread) findfont: score(<Font 'KufiStandardGK' (KufiStandardGK.ttc) normal normal regular normal>) = 10.05\n",
      "(MainThread) findfont: score(<Font 'Times New Roman' (Times New Roman Italic.ttf) italic normal roman normal>) = 11.145\n",
      "(MainThread) findfont: score(<Font 'Corsiva Hebrew' (Corsiva.ttc) normal normal 400 normal>) = 10.05\n",
      "(MainThread) findfont: score(<Font 'Arial Unicode MS' (Arial Unicode.ttf) normal normal 400 normal>) = 10.05\n",
      "(MainThread) findfont: score(<Font '.SF NS Display Condensed' (SFNSDisplayCondensed-Bold.otf) normal normal bold condensed>) = 10.535\n",
      "(MainThread) findfont: score(<Font '.SF NS Text Condensed' (SFNSTextCondensed-Bold.otf) normal normal bold condensed>) = 10.535\n",
      "(MainThread) findfont: score(<Font 'Plantagenet Cherokee' (PlantagenetCherokee.ttf) normal normal 400 normal>) = 10.05\n",
      "(MainThread) findfont: score(<Font 'Chalkboard' (Chalkboard.ttc) normal normal 400 normal>) = 10.05\n",
      "(MainThread) findfont: score(<Font '.SF NS Rounded' (SFNSRounded.ttf) normal normal 400 normal>) = 10.05\n",
      "(MainThread) findfont: score(<Font 'System Font' (SFNSDisplay-ThinItalic.otf) italic normal 400 normal>) = 11.05\n",
      "(MainThread) findfont: score(<Font '.SF Compact Display' (SFCompactDisplay-Thin.otf) normal normal 400 normal>) = 10.05\n",
      "(MainThread) findfont: score(<Font 'Mshtakan' (Mshtakan.ttc) normal normal 400 normal>) = 10.05\n",
      "(MainThread) findfont: score(<Font 'Apple Chancery' (Apple Chancery.ttf) normal normal 400 normal>) = 10.05\n",
      "(MainThread) findfont: score(<Font 'Damascus' (Damascus.ttc) normal normal regular normal>) = 10.05\n",
      "(MainThread) findfont: score(<Font 'PT Serif' (PTSerif.ttc) normal normal 400 normal>) = 10.05\n",
      "(MainThread) findfont: score(<Font '.SF Compact Text' (SFCompactText-Bold.otf) normal normal bold normal>) = 10.335\n",
      "(MainThread) findfont: score(<Font 'Hiragino Sans' (ヒラギノ角ゴシック W4.ttc) normal normal 400 normal>) = 10.05\n",
      "(MainThread) findfont: score(<Font 'Hoefler Text' (Hoefler Text.ttc) normal normal 400 normal>) = 10.05\n",
      "(MainThread) findfont: score(<Font 'Raanana' (Raanana.ttc) normal normal 400 normal>) = 10.05\n",
      "(MainThread) findfont: score(<Font 'Times New Roman' (Times New Roman Bold Italic.ttf) italic normal roman normal>) = 11.145\n",
      "(MainThread) findfont: score(<Font '.SF NS Display Condensed' (SFNSDisplayCondensed-Heavy.otf) normal normal heavy condensed>) = 10.629999999999999\n"
     ]
    },
    {
     "name": "stdout",
     "output_type": "stream",
     "text": [
      "Removing 250 pixels from up and down borders\n",
      "Original image size: (1920, 580)\n",
      "Target size: (192, 58)\n"
     ]
    },
    {
     "name": "stderr",
     "output_type": "stream",
     "text": [
      "(MainThread) findfont: score(<Font 'Khmer MN' (Khmer MN.ttc) normal normal 400 normal>) = 10.05\n",
      "(MainThread) findfont: score(<Font 'DIN Alternate' (DIN Alternate Bold.ttf) normal normal bold normal>) = 10.335\n",
      "(MainThread) findfont: score(<Font 'Gurmukhi MN' (Gurmukhi MN.ttc) normal normal 400 normal>) = 10.05\n",
      "(MainThread) findfont: score(<Font 'Farisi' (Farisi.ttf) normal normal regular normal>) = 10.05\n",
      "(MainThread) findfont: score(<Font 'Luminari' (Luminari.ttf) normal normal 400 normal>) = 10.05\n",
      "(MainThread) findfont: score(<Font '.SF NS Symbols' (SFNSSymbols-Medium.otf) normal normal medium normal>) = 10.145\n",
      "(MainThread) findfont: score(<Font 'System Font' (SFNSText.ttf) normal normal 400 normal>) = 10.05\n",
      "(MainThread) findfont: score(<Font '.SF Compact Text' (SFCompactText-Regular.otf) normal normal regular normal>) = 10.05\n",
      "(MainThread) findfont: score(<Font 'Devanagari Sangam MN' (Devanagari Sangam MN.ttc) normal normal 400 normal>) = 10.05\n",
      "(MainThread) findfont: score(<Font 'New Peninim MT' (NewPeninimMT.ttc) normal normal 400 normal>) = 10.05\n",
      "(MainThread) findfont: score(<Font 'Courier New' (Courier New Bold Italic.ttf) italic normal bold normal>) = 11.335\n",
      "(MainThread) findfont: score(<Font 'Mishafi' (Mishafi.ttf) normal normal regular normal>) = 10.05\n",
      "(MainThread) findfont: score(<Font '.SF NS Symbols' (SFNSSymbols-Black.otf) normal normal black normal>) = 10.525\n",
      "(MainThread) findfont: score(<Font '.SF NS Text Condensed' (SFNSTextCondensed-Regular.otf) normal normal regular condensed>) = 10.25\n",
      "(MainThread) findfont: score(<Font 'STIXIntegralsUp' (STIXIntUpBol.otf) normal normal bold normal>) = 10.335\n",
      "(MainThread) findfont: score(<Font '.SF Compact Rounded' (SFCompactRounded-Light.otf) normal normal light normal>) = 10.24\n",
      "(MainThread) findfont: score(<Font 'PT Mono' (PTMono.ttc) normal normal bold normal>) = 10.335\n",
      "(MainThread) findfont: score(<Font 'Hiragino Sans' (ヒラギノ角ゴシック W2.ttc) normal normal 400 normal>) = 10.05\n",
      "(MainThread) findfont: score(<Font 'STIXIntegralsUp' (STIXIntUpReg.otf) normal normal regular normal>) = 10.05\n",
      "(MainThread) findfont: score(<Font 'System Font' (SFNSDisplay-ThinG4.otf) normal normal 400 normal>) = 10.05\n",
      "(MainThread) findfont: score(<Font 'STIXIntegralsUpSm' (STIXIntUpSmReg.otf) normal normal regular normal>) = 10.05\n",
      "(MainThread) findfont: score(<Font 'Kannada MN' (Kannada MN.ttc) normal normal 400 normal>) = 10.05\n",
      "(MainThread) findfont: score(<Font 'System Font' (SFNSDisplay-ThinG1.otf) normal normal 400 normal>) = 10.05\n",
      "(MainThread) findfont: score(<Font 'AppleMyungjo' (AppleMyungjo.ttf) normal normal regular normal>) = 10.05\n",
      "(MainThread) findfont: score(<Font 'Lao Sangam MN' (Lao Sangam MN.ttf) normal normal 400 normal>) = 10.05\n",
      "(MainThread) findfont: score(<Font 'Futura' (Futura.ttc) normal normal medium normal>) = 10.145\n",
      "(MainThread) findfont: score(<Font 'American Typewriter' (AmericanTypewriter.ttc) normal normal 400 normal>) = 10.05\n",
      "(MainThread) findfont: score(<Font 'Songti SC' (Songti.ttc) normal normal black normal>) = 10.525\n",
      "(MainThread) findfont: score(<Font 'Hiragino Maru Gothic Pro' (ヒラギノ丸ゴ ProN W4.ttc) normal normal 400 normal>) = 10.05\n",
      "(MainThread) findfont: score(<Font 'Arial' (Arial Bold Italic.ttf) italic normal bold normal>) = 7.698636363636363\n",
      "(MainThread) findfont: score(<Font 'Noto Nastaliq Urdu' (NotoNastaliq.ttc) normal normal 400 normal>) = 10.05\n",
      "(MainThread) findfont: score(<Font 'Times' (Times.ttc) normal normal roman normal>) = 10.145\n",
      "(MainThread) findfont: score(<Font 'Herculanum' (Herculanum.ttf) normal normal 400 normal>) = 10.05\n",
      "(MainThread) findfont: score(<Font 'Bangla Sangam MN' (Bangla Sangam MN.ttc) normal normal 400 normal>) = 10.05\n",
      "(MainThread) findfont: score(<Font 'Ayuthaya' (Ayuthaya.ttf) normal normal 400 normal>) = 10.05\n",
      "(MainThread) findfont: score(<Font 'Apple Braille' (Apple Braille Outline 6 Dot.ttf) normal normal 400 normal>) = 10.05\n",
      "(MainThread) findfont: score(<Font 'STIXIntegralsD' (STIXIntDReg.otf) normal normal regular normal>) = 10.05\n",
      "(MainThread) findfont: score(<Font 'Marker Felt' (MarkerFelt.ttc) normal normal 400 normal>) = 10.05\n",
      "(MainThread) findfont: score(<Font 'Telugu Sangam MN' (Telugu Sangam MN.ttc) normal normal 400 normal>) = 10.05\n",
      "(MainThread) findfont: score(<Font 'Snell Roundhand' (SnellRoundhand.ttc) normal normal 400 normal>) = 10.05\n",
      "(MainThread) findfont: score(<Font '.SF Compact Display' (SFCompactDisplay-Semibold.otf) normal normal semibold normal>) = 10.24\n",
      "(MainThread) findfont: score(<Font 'System Font' (SFNSDisplay.ttf) normal normal 400 normal>) = 10.05\n",
      "(MainThread) findfont: score(<Font 'Hiragino Sans' (ヒラギノ角ゴシック W1.ttc) normal normal 400 normal>) = 10.05\n",
      "(MainThread) findfont: score(<Font '.SF Compact Text' (SFCompactText-Heavy.otf) normal normal heavy normal>) = 10.43\n",
      "(MainThread) findfont: score(<Font 'Trattatello' (Trattatello.ttf) normal normal 400 normal>) = 10.05\n",
      "(MainThread) findfont: score(<Font 'Arial Rounded MT Bold' (Arial Rounded Bold.ttf) normal normal bold normal>) = 10.335\n",
      "(MainThread) findfont: score(<Font '.SF Compact Text' (SFCompactText-Semibold.otf) normal normal semibold normal>) = 10.24\n",
      "(MainThread) findfont: score(<Font 'Trebuchet MS' (Trebuchet MS.ttf) normal normal 400 normal>) = 10.05\n",
      "(MainThread) findfont: score(<Font 'System Font' (SFNSDisplay-LightItalic.otf) italic normal light normal>) = 11.24\n",
      "(MainThread) findfont: score(<Font 'Arial' (Arial.ttf) normal normal 400 normal>) = 6.413636363636363\n",
      "(MainThread) findfont: score(<Font 'System Font' (SFNSDisplay-HeavyItalic.otf) italic normal heavy normal>) = 11.43\n",
      "(MainThread) findfont: score(<Font '.SF NS Display Condensed' (SFNSDisplayCondensed-Ultralight.otf) normal normal ultralight condensed>) = 10.535\n",
      "(MainThread) findfont: score(<Font 'Big Caslon' (BigCaslon.ttf) normal normal medium normal>) = 10.145\n",
      "(MainThread) findfont: score(<Font '.Keyboard' (Keyboard.ttf) normal normal 400 normal>) = 10.05\n",
      "(MainThread) findfont: score(<Font 'DecoType Naskh' (DecoTypeNaskh.ttc) normal normal regular normal>) = 10.05\n",
      "(MainThread) findfont: Matching :family=sans-serif:style=normal:variant=normal:weight=normal:stretch=normal:size=10.0 to DejaVu Sans ('/Users/izakharkin/opt/anaconda3/lib/python3.7/site-packages/matplotlib/mpl-data/fonts/ttf/DejaVuSans.ttf') with score of 0.050000.\n"
     ]
    },
    {
     "data": {
      "image/png": "[encoded data removed]",
      "text/plain": [
       "<Figure size 432x288 with 1 Axes>"
      ]
     },
     "metadata": {
      "needs_background": "light"
     },
     "output_type": "display_data"
    },
    {
     "data": {
      "image/png": "[encoded data removed]",
      "text/plain": [
       "<Figure size 432x288 with 1 Axes>"
      ]
     },
     "metadata": {
      "needs_background": "light"
     },
     "output_type": "display_data"
    }
   ],
   "source": [
    "design_root = '/Users/izakharkin/Desktop/deepjest/_design'\n",
    "logo_path = f'{design_root}/wix/jesture_ai_logo_comfortaa/jesture_logo_comfortaa-removebg.png'\n",
    "\n",
    "logo_img, logo_alpha = load_image_with_alpha(logo_path, remove_borders=True)\n",
    "\n",
    "plt.imshow(logo_img);\n",
    "plt.show();\n",
    "plt.imshow(logo_alpha, cmap='gray');\n",
    "plt.show();"
   ]
  },
  {
   "cell_type": "markdown",
   "metadata": {},
   "source": [
    "## Demo"
   ]
  },
  {
   "cell_type": "code",
   "execution_count": 5,
   "metadata": {},
   "outputs": [],
   "source": [
    "def daemon():\n",
    "    logging.debug('Starting')\n",
    "    run_full_cpu(instance)\n",
    "    logging.debug('Exiting')"
   ]
  },
  {
   "cell_type": "code",
   "execution_count": 6,
   "metadata": {},
   "outputs": [
    {
     "name": "stderr",
     "output_type": "stream",
     "text": [
      "(daemon    ) Starting\n"
     ]
    },
    {
     "name": "stdout",
     "output_type": "stream",
     "text": [
      "<importlib._bootstrap.LP_c_int object at 0x7ff6599024d0>\n"
     ]
    }
   ],
   "source": [
    "instance = create_full_cpu(1)\n",
    "print(instance)\n",
    "d = threading.Thread(name='daemon', target=daemon)\n",
    "d.setDaemon(True)\n",
    "d.start()"
   ]
  },
  {
   "cell_type": "code",
   "execution_count": 7,
   "metadata": {},
   "outputs": [
    {
     "data": {
      "text/plain": [
       "array([[0., 0., 0.],\n",
       "       [0., 0., 0.],\n",
       "       [0., 0., 0.],\n",
       "       [0., 0., 0.],\n",
       "       [0., 0., 0.],\n",
       "       [0., 0., 0.],\n",
       "       [0., 0., 0.],\n",
       "       [0., 0., 0.],\n",
       "       [0., 0., 0.],\n",
       "       [0., 0., 0.],\n",
       "       [0., 0., 0.],\n",
       "       [0., 0., 0.],\n",
       "       [0., 0., 0.],\n",
       "       [0., 0., 0.],\n",
       "       [0., 0., 0.],\n",
       "       [0., 0., 0.],\n",
       "       [0., 0., 0.],\n",
       "       [0., 0., 0.],\n",
       "       [0., 0., 0.],\n",
       "       [0., 0., 0.],\n",
       "       [0., 0., 0.]])"
      ]
     },
     "execution_count": 7,
     "metadata": {},
     "output_type": "execute_result"
    }
   ],
   "source": [
    "get_scaled_left_keypoints(instance).reshape(21, 3)"
   ]
  },
  {
   "cell_type": "code",
   "execution_count": 8,
   "metadata": {},
   "outputs": [],
   "source": [
    "\n",
    "# stop_full_cpu(instance)\n"
   ]
  },
  {
   "cell_type": "code",
   "execution_count": 9,
   "metadata": {},
   "outputs": [],
   "source": [
    "def process_hand_keypoints(raw_keypoints, mirror=True, img_width=640):\n",
    "    keypoints = raw_keypoints.reshape(21, 3).copy()\n",
    "    if mirror:\n",
    "        keypoints[:,0] = img_width - keypoints[:,0]\n",
    "    return keypoints"
   ]
  },
  {
   "cell_type": "code",
   "execution_count": 10,
   "metadata": {},
   "outputs": [],
   "source": [
    "name = 'JestureSDK: Python Demo'\n",
    "width, height = (640, 480)\n",
    "# cv2.namedWindow(name, cv2.WINDOW_NORMAL)\n",
    "# cv2.resizeWindow(name, (width, height))\n",
    "# cv2.startWindowThread()\n",
    "\n",
    "idx_to_gesture = {1: 'one', 2: 'two', 3: 'three', 4: 'four', 5: 'five',\n",
    "                  6: 'fist', 7: 'piece', 8: 'love', 9: 'ok', 0: 'horns'}\n",
    "help_textlist = [f'{k}: {v}' for k, v in idx_to_gesture.items()]\n",
    "logo_loc = (10, 10)\n",
    "help_loc = (10, height//2)\n",
    "notify_loc = (width-10, height-50)"
   ]
  },
  {
   "cell_type": "code",
   "execution_count": 11,
   "metadata": {
    "scrolled": true
   },
   "outputs": [
    {
     "name": "stderr",
     "output_type": "stream",
     "text": [
      "(daemon    ) Exiting\n",
      "(MainThread) [WebcamVideoStream] Stopping...\n",
      "(thread_camera_python) [WebcamVideoStream] Frame loop finished.\n",
      "(thread_camera_python) [WebcamVideoStream] Capture released.\n",
      "(MainThread) [WebcamVideoStream] Camera thread joined.\n"
     ]
    }
   ],
   "source": [
    "cap = WebcamVideoStream(cam_id=1, width=width, height=height)\n",
    "cap.start()\n",
    "\n",
    "selfie_mode = True\n",
    "i = 0\n",
    "while(True):\n",
    "    if cap.frame is None:\n",
    "        continue\n",
    "        \n",
    "    frame = cap.frame[:,::-1,:] if selfie_mode else cap.frame  # TODO: read frames from dylib\n",
    "    frame = overlay_alpha(logo_img[:,:,::-1], logo_alpha, frame, loc=logo_loc, alpha=1.0)\n",
    "    \n",
    "    left_keypoints = process_hand_keypoints(get_hand_left_keypoints(instance))\n",
    "    right_keypoints = process_hand_keypoints(get_hand_right_keypoints(instance))\n",
    "    left_scaled_keypoints = process_hand_keypoints(get_scaled_left_keypoints(instance))\n",
    "    right_scaled_keypoints = process_hand_keypoints(get_scaled_right_keypoints(instance))\n",
    "    \n",
    "    frame = draw_skeleton(frame, left_keypoints)\n",
    "    frame = draw_skeleton(frame, right_keypoints)\n",
    "    frame = draw_skeleton(frame, left_scaled_keypoints)\n",
    "    frame = draw_skeleton(frame, right_scaled_keypoints)\n",
    "    \n",
    "    frame = Image.fromarray(frame.get())\n",
    "    draw = ImageDraw.Draw(frame, \"RGBA\")\n",
    "    draw.rectangle(((10, height//6), (160, height-height//6)), fill=(0, 0, 0, 127))\n",
    "    draw.rectangle(((10, height//6), (160, height-height//6)), outline=(235, 190, 63, 127))\n",
    "    frame = np.array(frame).astype(np.uint8)\n",
    "    \n",
    "    frame = draw_multiline_text(frame, help_textlist, xloc=10, color=(255,255,255))\n",
    "    \n",
    "    cv2.imshow(name, frame)\n",
    "    \n",
    "    c = cv2.waitKey(1) % 256\n",
    "    if c == ord('q'):\n",
    "        stop_full_cpu(instance)\n",
    "        break\n",
    "    for k,v in idx_to_gesture.items():\n",
    "        if c == ord(str(k)):\n",
    "            notify_text = f\"pressed {k}:{v}\"\n",
    "            print(notify_text)\n",
    "            frame = draw_text(frame, notify_text, org=notify_loc, \n",
    "                              color=(0,0,0), fontScale=0.75)\n",
    "        \n",
    "    i += 1\n",
    "\n",
    "d.join()\n",
    "cap.stop()\n",
    "stop_full_cpu(instance)\n",
    "dispose_full_cpu(instance)\n",
    "cv2.destroyAllWindows()"
   ]
  },
  {
   "cell_type": "code",
   "execution_count": null,
   "metadata": {},
   "outputs": [
    {
     "name": "stderr",
     "output_type": "stream",
     "text": [
      "(MainThread) [WebcamVideoStream] Stopping...\n"
     ]
    }
   ],
   "source": [
    "d.join()\n",
    "cap.stop()\n",
    "stop_full_cpu(instance)\n",
    "dispose_full_cpu(instance)\n",
    "cv2.destroyAllWindows()"
   ]
  },
  {
   "cell_type": "code",
   "execution_count": null,
   "metadata": {},
   "outputs": [],
   "source": []
  }
 ],
 "metadata": {
  "kernelspec": {
   "display_name": "Python 3",
   "language": "python",
   "name": "python3"
  },
  "language_info": {
   "codemirror_mode": {
    "name": "ipython",
    "version": 3
   },
   "file_extension": ".py",
   "mimetype": "text/x-python",
   "name": "python",
   "nbconvert_exporter": "python",
   "pygments_lexer": "ipython3",
   "version": "3.7.4"
  },
  "toc": {
   "base_numbering": 1,
   "nav_menu": {},
   "number_sections": true,
   "sideBar": true,
   "skip_h1_title": false,
   "title_cell": "Table of Contents",
   "title_sidebar": "Contents",
   "toc_cell": false,
   "toc_position": {},
   "toc_section_display": true,
   "toc_window_display": false
  }
 },
 "nbformat": 4,
 "nbformat_minor": 2
}
