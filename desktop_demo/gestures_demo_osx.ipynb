{
 "cells": [
  {
   "cell_type": "markdown",
   "metadata": {},
   "source": [
    "# Static and dynamic gestures (Mac OS X)"
   ]
  },
  {
   "cell_type": "code",
   "execution_count": 1,
   "metadata": {},
   "outputs": [],
   "source": [
    "%load_ext autoreload\n",
    "%autoreload 2"
   ]
  },
  {
   "cell_type": "code",
   "execution_count": 2,
   "metadata": {},
   "outputs": [
    {
     "name": "stdout",
     "output_type": "stream",
     "text": [
      "shutil.which(\"libSystem.B.dylib\"): None\n",
      "ctypes.CDLL(\"libSystem.B.dylib\")._name: libSystem.B.dylib\n",
      "ctypes.__version__: 1.1.0\n",
      "platform.mac_ver(): ('10.16', ('', '', ''), 'x86_64')\n"
     ]
    },
    {
     "name": "stderr",
     "output_type": "stream",
     "text": [
      "(MainThread) Loaded backend module://ipykernel.pylab.backend_inline version unknown.\n"
     ]
    },
    {
     "name": "stdout",
     "output_type": "stream",
     "text": [
      "cv2.__version__: 4.1.2\n"
     ]
    }
   ],
   "source": [
    "from PIL import Image, ImageDraw, ImageFont\n",
    "import matplotlib.pyplot as plt\n",
    "from skimage import io\n",
    "import numpy as np\n",
    "import cv2\n",
    "\n",
    "from thread_camera import WebcamVideoStream\n",
    "from utils import load_image_with_alpha, overlay_alpha\n",
    "from utils import draw_text, draw_multiline_text\n",
    "\n",
    "from jesture_sdk_python import JestureSdkRunner\n",
    "\n",
    "print('cv2.__version__:', cv2.__version__)  # 4.1.2 recommended"
   ]
  },
  {
   "cell_type": "code",
   "execution_count": 3,
   "metadata": {},
   "outputs": [
    {
     "name": "stderr",
     "output_type": "stream",
     "text": [
      "(MainThread) STREAM b'IHDR' 16 13\n",
      "(MainThread) STREAM b'IDAT' 41 8192\n"
     ]
    },
    {
     "name": "stdout",
     "output_type": "stream",
     "text": [
      "Removing 250 pixels from up and down borders\n",
      "Original image size: (1920, 580)\n",
      "Target size: (192, 58)\n"
     ]
    }
   ],
   "source": [
    "# create the application window\n",
    "name = 'JestureSDK: Python Demo'\n",
    "width, height = (640, 480)\n",
    "cv2.namedWindow(name, cv2.WINDOW_NORMAL)\n",
    "cv2.resizeWindow(name, (width, height))\n",
    "cv2.startWindowThread()\n",
    "\n",
    "# load the logo image\n",
    "design_root = '/Users/izakharkin/Desktop/deepjest/_design'\n",
    "logo_path = f'{design_root}/wix/jesture_ai_logo_comfortaa/jesture_logo_comfortaa-removebg.png'\n",
    "logo_img, logo_alpha = load_image_with_alpha(logo_path, remove_borders=True)\n",
    "\n",
    "# set the ui elements positions\n",
    "left_box_tl = (70, 360)\n",
    "left_box_br = (200, 420)\n",
    "\n",
    "right_box_tl = (450, 360)\n",
    "right_box_br = (580, 420)\n",
    "\n",
    "# set the text positions\n",
    "logo_loc = (10, 10)\n",
    "left_text_loc = (80, 390)\n",
    "right_text_loc = (460, 390)\n",
    "dynamic_text_loc = ((left_text_loc[0] + right_text_loc[0]) // 2, 50)\n",
    "font = ImageFont.truetype(\"Comfortaa-Light.ttf\", 24)"
   ]
  },
  {
   "cell_type": "code",
   "execution_count": 4,
   "metadata": {},
   "outputs": [
    {
     "name": "stderr",
     "output_type": "stream",
     "text": [
      "(MainThread) [JestureSdkRunner] Instance created.\n",
      "(jesture_sdk_python_thread) [JestureSdkRunner] Starting recognition...\n",
      "(MainThread) [JestureSdkRunner] Recognition thread started.\n"
     ]
    },
    {
     "data": {
      "text/plain": [
       "<jesture_sdk_python.JestureSdkRunner at 0x7fb007b479d0>"
      ]
     },
     "execution_count": 4,
     "metadata": {},
     "output_type": "execute_result"
    }
   ],
   "source": [
    "# start Jesture SDK Python runner\n",
    "jesture_runner = JestureSdkRunner(cam_id=1)\n",
    "jesture_runner.start_recognition()"
   ]
  },
  {
   "cell_type": "code",
   "execution_count": 5,
   "metadata": {},
   "outputs": [],
   "source": [
    "# jesture_runner.stop_recognition()"
   ]
  },
  {
   "cell_type": "code",
   "execution_count": 6,
   "metadata": {},
   "outputs": [
    {
     "data": {
      "text/plain": [
       "<thread_camera.WebcamVideoStream at 0x7fb007b5d410>"
      ]
     },
     "execution_count": 6,
     "metadata": {},
     "output_type": "execute_result"
    }
   ],
   "source": [
    "# start reading frames to display in the application window\n",
    "cap = ThreadCamera(cam_id=1, width=width, height=height)\n",
    "cap.start()"
   ]
  },
  {
   "cell_type": "code",
   "execution_count": 7,
   "metadata": {
    "scrolled": true
   },
   "outputs": [
    {
     "name": "stderr",
     "output_type": "stream",
     "text": [
      "(MainThread) [JestureSdkRunner] Stopping recognition...\n",
      "(MainThread) [JestureSdkRunner] Recognition stopped.\n",
      "(MainThread) [JestureSdkRunner] Thread joined.\n",
      "(MainThread) [WebcamVideoStream] Stopping...\n",
      "(thread_camera_python) [WebcamVideoStream] Frame loop finished.\n",
      "(thread_camera_python) [WebcamVideoStream] Capture released.\n",
      "(MainThread) [WebcamVideoStream] Camera thread joined.\n"
     ]
    },
    {
     "data": {
      "text/plain": [
       "-1"
      ]
     },
     "execution_count": 7,
     "metadata": {},
     "output_type": "execute_result"
    }
   ],
   "source": [
    "selfie_mode = True\n",
    "i = 0\n",
    "while(True):\n",
    "    if cap.frame is None:\n",
    "        continue\n",
    "    \n",
    "    # get current webcam image\n",
    "    frame = cap.frame[:,::-1,:] if selfie_mode else cap.frame  # TODO: read frames from dylib\n",
    "    \n",
    "    # get current hand gestures\n",
    "    dynamic_gesture = jesture_runner.get_gesture('dynamic')\n",
    "    left_gesture = jesture_runner.get_gesture('left_static')\n",
    "    right_gesture = jesture_runner.get_gesture('right_static')\n",
    "    \n",
    "    # draw logo\n",
    "    frame = overlay_alpha(logo_img[:,:,::-1], logo_alpha, frame, loc=logo_loc, alpha=1.0)\n",
    "    \n",
    "    # draw ui elements\n",
    "    frame = Image.fromarray(frame)\n",
    "    draw = ImageDraw.Draw(frame, \"RGBA\")\n",
    "    draw.rectangle((left_box_tl, left_box_br), fill=(0, 0, 0, 127), outline=(235, 190, 63, 127))\n",
    "    draw.rectangle((right_box_tl, right_box_br), fill=(0, 0, 0, 127), outline=(235, 190, 63, 127))\n",
    "    \n",
    "    # ellipse with emoji images instead of rectangle \n",
    "#     leftUpPoint = (x-r, y-r)\n",
    "#     rightDownPoint = (x+r, y+r)\n",
    "#     twoPointList = [leftUpPoint, rightDownPoint]\n",
    "#     draw.ellipse(twoPointList, fill=(255,0,0,255))\n",
    "#     draw.ellipse((100, 100, 150, 200), fill=(0, 0, 0, 127), outline=(235, 190, 63, 127))\n",
    "#     draw.ellipse((100, 100, 150, 200), fill=(0, 0, 0, 127), outline=(235, 190, 63, 127))\n",
    "#     frame = np.array(frame).astype(np.uint8)\n",
    "    \n",
    "    # draw text\n",
    "    draw.text(dynamic_text_loc, dynamic_gesture, font=font)\n",
    "    draw.text(left_text_loc, left_gesture, font=font)\n",
    "    draw.text(right_text_loc, right_gesture, font=font)\n",
    "    frame = np.array(frame).astype(np.uint8)\n",
    "\n",
    "    cv2.imshow(name, frame)\n",
    "    \n",
    "    if cv2.waitKey(1) & 0xFF == ord('q'):\n",
    "        break\n",
    "\n",
    "    i += 1\n",
    "    \n",
    "jesture_runner.stop_recognition()\n",
    "cap.stop()\n",
    "\n",
    "cv2.waitKey(1)\n",
    "cv2.destroyWindow(name)\n",
    "cv2.destroyAllWindows()\n",
    "cv2.waitKey(1)"
   ]
  },
  {
   "cell_type": "code",
   "execution_count": 8,
   "metadata": {},
   "outputs": [],
   "source": [
    "# jesture_runner.stop_recognition()\n",
    "# cap.stop()\n",
    "\n",
    "# cv2.waitKey(1)\n",
    "# cv2.destroyWindow(name)\n",
    "# cv2.destroyAllWindows()\n",
    "# cv2.waitKey(1)"
   ]
  },
  {
   "cell_type": "code",
   "execution_count": null,
   "metadata": {},
   "outputs": [],
   "source": []
  },
  {
   "cell_type": "markdown",
   "metadata": {},
   "source": [
    "---"
   ]
  },
  {
   "cell_type": "code",
   "execution_count": null,
   "metadata": {},
   "outputs": [],
   "source": [
    "# https://unicode.org/emoji/charts/emoji-list.html#1f44c\n",
    "gesture_to_emoji = {\n",
    "    '': '',\n",
    "    '———': '———',\n",
    "    'ONE': '\\U0000261D',\n",
    "    'TWO': 'TWO',\n",
    "    'THREE': 'THREE',\n",
    "    'FOUR': 'FOUR',\n",
    "    'FIVE' : '\\U0001F590',\n",
    "    'OK': '\\U0001F44C',\n",
    "    'YEAH': '\\U0000270C',\n",
    "    'SPIDERMAN': '\\U0001F91F',\n",
    "    'ROCK': '\\U0001F918',\n",
    "    'FIST': '\\U00009270A'\n",
    "}\n",
    "\n",
    "# !pip install emoji\n",
    "import unicodedata\n",
    "# in python2 use u'\\U0001f603'\n",
    "print('\\U0001F44C')#U+1F44C\n",
    "print(gesture_to_emoji['FIVE'])"
   ]
  },
  {
   "cell_type": "code",
   "execution_count": null,
   "metadata": {
    "scrolled": true
   },
   "outputs": [],
   "source": [
    "def show_logo_alpha():\n",
    "    design_root = '/Users/izakharkin/Desktop/deepjest/_design'\n",
    "    logo_path = f'{design_root}/wix/jesture_ai_logo_comfortaa/jesture_logo_comfortaa-removebg.png'\n",
    "\n",
    "    logo_img, logo_alpha = load_image_with_alpha(logo_path, remove_borders=True)\n",
    "\n",
    "    plt.imshow(logo_img);\n",
    "    plt.show();\n",
    "    plt.imshow(logo_alpha, cmap='gray');\n",
    "    plt.show();"
   ]
  },
  {
   "cell_type": "code",
   "execution_count": null,
   "metadata": {},
   "outputs": [],
   "source": [
    "def test_overlay():\n",
    "    testimg = io.imread('./test.jpg')\n",
    "    testimg = overlay_alpha(logo_img, logo_alpha, testimg, loc=(10, 10), alpha=1.0)\n",
    "\n",
    "    idx_to_gesture = {1: 'one', 2: 'two', 3: 'three', 4: 'four', 5: 'five',\n",
    "                      6: 'fist', 7: 'piece', 8: 'love', 9: 'ok', 0: 'horns'}\n",
    "    help_textlist = [f'{k}: {v}' for k, v in idx_to_gesture.items()]\n",
    "    testimg = draw_multiline_text(testimg, help_textlist)\n",
    "\n",
    "    plt.figure(figsize=(10, 7))\n",
    "    plt.imshow(testimg);"
   ]
  },
  {
   "cell_type": "code",
   "execution_count": null,
   "metadata": {},
   "outputs": [],
   "source": [
    "def test_blackbox():\n",
    "    blackbox = io.imread('./blackbox.png')\n",
    "    orig_size = (blackbox.shape[1], blackbox.shape[0])\n",
    "    print('orig_size:', orig_size)\n",
    "    target_size = (orig_size[0] // 7, orig_size[1] // 7)\n",
    "    print('target_size:', target_size)\n",
    "    blackbox = cv2.resize(blackbox, target_size)\n",
    "    plt.imshow(blackbox);\n",
    "    plt.show();\n",
    "\n",
    "    blackbox_alpha = np.ones_like(blackbox)[:,:,0] * 255\n",
    "    blackbox_alpha[blackbox[:,:,0] == 255] = 0\n",
    "    plt.imshow(blackbox_alpha, cmap='gray');\n",
    "    plt.show();\n",
    "\n",
    "    testimg = overlay_alpha(blackbox, blackbox_alpha, testimg, loc=(10, 100), alpha=1.0)\n",
    "    plt.figure(figsize=(10, 7))\n",
    "    plt.imshow(testimg);"
   ]
  },
  {
   "cell_type": "code",
   "execution_count": null,
   "metadata": {},
   "outputs": [],
   "source": [
    "def test_pil_draw():\n",
    "    testimg = io.imread('./test.jpg')\n",
    "    testimg = Image.fromarray(testimg)\n",
    "    draw = ImageDraw.Draw(testimg, \"RGBA\")\n",
    "    draw.rectangle(((280, 10), (1010, 706)), fill=(0, 0, 0, 127))\n",
    "    draw.rectangle(((280, 10), (1010, 706)), outline=(63, 190, 235, 127))\n",
    "    plt.figure(figsize=(12, 10))\n",
    "    plt.imshow(np.array(testimg));"
   ]
  },
  {
   "cell_type": "code",
   "execution_count": null,
   "metadata": {},
   "outputs": [],
   "source": []
  },
  {
   "cell_type": "code",
   "execution_count": null,
   "metadata": {},
   "outputs": [],
   "source": []
  },
  {
   "cell_type": "code",
   "execution_count": null,
   "metadata": {},
   "outputs": [],
   "source": []
  }
 ],
 "metadata": {
  "kernelspec": {
   "display_name": "Python 3",
   "language": "python",
   "name": "python3"
  },
  "language_info": {
   "codemirror_mode": {
    "name": "ipython",
    "version": 3
   },
   "file_extension": ".py",
   "mimetype": "text/x-python",
   "name": "python",
   "nbconvert_exporter": "python",
   "pygments_lexer": "ipython3",
   "version": "3.7.4"
  },
  "toc": {
   "base_numbering": 1,
   "nav_menu": {},
   "number_sections": true,
   "sideBar": true,
   "skip_h1_title": false,
   "title_cell": "Table of Contents",
   "title_sidebar": "Contents",
   "toc_cell": false,
   "toc_position": {},
   "toc_section_display": true,
   "toc_window_display": false
  }
 },
 "nbformat": 4,
 "nbformat_minor": 2
}
