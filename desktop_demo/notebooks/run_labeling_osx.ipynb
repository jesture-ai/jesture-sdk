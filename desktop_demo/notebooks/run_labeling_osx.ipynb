{
 "cells": [
  {
   "cell_type": "markdown",
   "metadata": {},
   "source": [
    "# Hand tracking skeleton (Mac OS X)"
   ]
  },
  {
   "cell_type": "code",
   "execution_count": null,
   "metadata": {},
   "outputs": [],
   "source": [
    "%load_ext autoreload\n",
    "%autoreload 2"
   ]
  },
  {
   "cell_type": "code",
   "execution_count": null,
   "metadata": {},
   "outputs": [],
   "source": [
    "from PIL import Image, ImageDraw, ImageFont\n",
    "import matplotlib.pyplot as plt\n",
    "from skimage import io\n",
    "import numpy as np\n",
    "import datetime\n",
    "import pickle\n",
    "import time\n",
    "import cv2\n",
    "import sys\n",
    "import os\n",
    "\n",
    "sys.path.append(os.path.abspath(\"..\"))\n",
    "\n",
    "from src.utils import load_image_with_alpha, overlay_alpha\n",
    "from src.utils import draw_text, draw_multiline_text, draw_skeleton\n",
    "from src.thread_camera_draw import ThreadCameraDraw\n",
    "\n",
    "from jesture_sdk_python.jesture_sdk_python import JestureSdkRunner\n",
    "\n",
    "print('cv2.__version__:', cv2.__version__)  # 4.1.2 recommended"
   ]
  },
  {
   "cell_type": "code",
   "execution_count": null,
   "metadata": {},
   "outputs": [],
   "source": [
    "# create the application window\n",
    "name = 'JestureSDK: Python Demo'\n",
    "width, height = (640, 480)  # (1280, 720)\n",
    "cv2.namedWindow(name)\n",
    "# cv2.resizeWindow(name, (width, height))\n",
    "cv2.startWindowThread()\n",
    "\n",
    "# set the data file\n",
    "now = datetime.datetime.now()\n",
    "dt = f'{now.day:02d}{now.month:02d}{now.year%100:02d}_{now.hour:02d}_{now.minute:02d}'\n",
    "data_file_name = f'hand_kps_v1_{dt}.pkl'\n",
    "\n",
    "# set the logo stuff\n",
    "logo_path = f'../images/jesture_logo.png'\n",
    "logo_img, logo_alpha = load_image_with_alpha(logo_path, remove_borders=True)\n",
    "logo_loc = (10, 10)\n",
    "\n",
    "# set the gestures help stuff\n",
    "key_to_idx = {'0': 0, '1': 1, '2': 2, '3': 3, '4': 4, '5': 5,\n",
    "              '6': 6, '7': 7, '8': 8, '9': 9, 'f': 10, 'g': 11, \n",
    "              'd': 12, 'c': 13, 'h': 14}\n",
    "key_ords = [ord(x) for x in key_to_idx]\n",
    "idx_to_gesture = {0: 'no_gesture', 1: 'one', 2: 'two', 3: 'three', 4: 'four', \n",
    "                  5: 'five', 6: 'fist', 7: 'peace', 8: 'love', 9: 'ok', \n",
    "                  10: 'fuck', 11: '1-gun', 12: '2-gun', 13: 'call_me', 14: 'horns'}\n",
    "idx_to_count = {k: 0 for k in idx_to_gesture}\n",
    "# help_textlist = [f'{k}: {idx_to_gesture[key_to_idx[k]]} {idx_to_count[key_to_idx[k]]}' for k in key_to_idx]\n",
    "# help_textlist_str = '\\n'.join(help_textlist)\n",
    "\n",
    "help_box_width = 175\n",
    "help_box_tl = {'right': (10, height//5+10), \n",
    "               'left': (width-help_box_width, height//5+10)}\n",
    "help_box_br = {'right': (10+help_box_width, height-30), \n",
    "               'left': (width, height-30)}\n",
    "help_text_loc = {'right': (help_box_tl['right'][0]+10, help_box_tl['right'][1]+10),\n",
    "                 'left': (help_box_tl['left'][0]+10, help_box_tl['left'][1]+10)}\n",
    "help_font = ImageFont.truetype(\"Comfortaa-Light.ttf\", 20)\n",
    "\n",
    "# set the scaled hands stuff\n",
    "mid_hand_box_tl = (width//3, height-height//5)\n",
    "mid_hand_box_br = (2*width//3, height)\n",
    "hand_box_tl = {'right': (2*width//3, height-height//5),\n",
    "               'left': (0, height-height//5)}\n",
    "hand_box_br = {'right': (width, height),\n",
    "               'left': (width//3, height)}\n",
    "\n",
    "# set the hand type stuff\n",
    "handtype_text = {\"right\": \"Right hand capture (L/R)\", \n",
    "                 \"left\": \"Left hand capture (L/R)\"}\n",
    "handtype_text_loc = (width//2, 25)\n",
    "\n",
    "# set the counter stuff\n",
    "count_text_loc = (width//3, 25)\n",
    "\n",
    "# set common font\n",
    "font = ImageFont.truetype(\"../fonts/Comfortaa-Light.ttf\", 24)\n",
    "\n",
    "# variables used in the main loop\n",
    "pressed_duration = 0\n",
    "pressed_text = ''\n",
    "\n",
    "selfie_mode = True\n",
    "hand_type = 'right'\n",
    "data_list = []\n",
    "prev_k = ''\n",
    "i = 0"
   ]
  },
  {
   "cell_type": "code",
   "execution_count": null,
   "metadata": {},
   "outputs": [],
   "source": [
    "class Args:\n",
    "    def __init__(self):\n",
    "        self.cam_id = 1\n",
    "args = Args()"
   ]
  },
  {
   "cell_type": "code",
   "execution_count": null,
   "metadata": {},
   "outputs": [],
   "source": [
    "# start Jesture SDK Python runner\n",
    "jesture_runner = JestureSdkRunner(cam_id=args.cam_id)\n",
    "jesture_runner.start_recognition()"
   ]
  },
  {
   "cell_type": "code",
   "execution_count": null,
   "metadata": {},
   "outputs": [],
   "source": [
    "# jesture_runner.stop_recognition()"
   ]
  },
  {
   "cell_type": "code",
   "execution_count": null,
   "metadata": {
    "scrolled": true
   },
   "outputs": [],
   "source": [
    "time.sleep(3)\n",
    "# start reading frames to display in the application window\n",
    "cap = ThreadCameraDraw(\n",
    "    jesture_runner, cam_id=args.cam_id, width=width, height=height,\n",
    "    hand_box_tl=mid_hand_box_tl, hand_box_br=mid_hand_box_br,\n",
    "    draw_hand_box=False\n",
    ")\n",
    "cap.start()"
   ]
  },
  {
   "cell_type": "code",
   "execution_count": null,
   "metadata": {
    "scrolled": true
   },
   "outputs": [],
   "source": [
    "time.sleep(3)\n",
    "while(True):\n",
    "    if cap.frame is None:\n",
    "        continue\n",
    "        \n",
    "#     cap.hand_box_tl = hand_box_tl[hand_type]\n",
    "#     cap.hand_box_br = hand_box_br[hand_type]\n",
    "    \n",
    "    # get current webcam image with drawn hand skeletons\n",
    "    frame = cap.frame[:,::-1,:] if selfie_mode else cap.frame\n",
    "    \n",
    "    # draw logo\n",
    "    frame = overlay_alpha(logo_img[:,:,::-1], logo_alpha, frame, loc=logo_loc, alpha=1.0)\n",
    "    \n",
    "    # draw ui elements\n",
    "    frame = Image.fromarray(frame if type(np.array([])) == type(frame) else frame.get())\n",
    "    draw = ImageDraw.Draw(frame, \"RGBA\")\n",
    "    draw.rectangle((help_box_tl[hand_type], help_box_br[hand_type]), \n",
    "                   fill=(0, 0, 0, 127), outline=(235, 190, 63, 255))\n",
    "    # draw.rectangle((hand_box_tl, hand_box_br), fill=(0, 0, 0, 127), outline=(235, 190, 63, 255))\n",
    "    \n",
    "    # draw text\n",
    "    draw.multiline_text(handtype_text_loc, handtype_text[hand_type], \n",
    "                        font=font, fill=(255, 255, 255, 200))\n",
    "    \n",
    "    help_textlist = [f'{idx_to_count[key_to_idx[k]]} | {k}: {idx_to_gesture[key_to_idx[k]]}' \n",
    "                     for k in key_to_idx]\n",
    "    help_textlist_str = '\\n'.join(help_textlist)\n",
    "    draw.multiline_text(help_text_loc[hand_type], help_textlist_str, \n",
    "                        font=help_font, fill=(255, 255, 255))\n",
    "    \n",
    "    # retrieve keyboard signal\n",
    "    c = cv2.waitKey(1) % 256\n",
    "    if c == ord('q'):\n",
    "        break\n",
    "        \n",
    "    if c == ord('l'):\n",
    "        hand_type = 'left'\n",
    "    if c == ord('r'):\n",
    "        hand_type = 'right'\n",
    "    \n",
    "    # retrieve if gesture key is pressed\n",
    "    if chr(c) in key_to_idx:\n",
    "        k, v = chr(c), idx_to_gesture[key_to_idx[chr(c)]]\n",
    "        pressed_text = f'{idx_to_count[key_to_idx[k]]} | {k}: {v}'\n",
    "        idx_to_count[key_to_idx[k]] += 1\n",
    "        pressed_duration = 4\n",
    "        print(f\"pressed {pressed_text}, shape: {frame.size}\")\n",
    "        data_list.append({\n",
    "            'hand_type': hand_type,\n",
    "            'gesture_id': key_to_idx[k],\n",
    "            'gesture_name': v,\n",
    "            'pred_gesture_name': jesture_runner.get_gesture(\n",
    "                f'{hand_type}_static'),\n",
    "            'keypoints': jesture_runner.get_hand_keypoints(\n",
    "                f'{hand_type}_keypoints'),\n",
    "            'scaled_keypoints': jesture_runner.get_hand_keypoints(\n",
    "                f'scaled_{hand_type}_keypoints'),\n",
    "        })\n",
    "        # save current data to not to lose it \n",
    "        # in case if the program accidentally exited\n",
    "        if k != prev_k:\n",
    "            with open(data_file_name, 'wb') as file:\n",
    "                pickle.dump(data_list, file)\n",
    "        prev_k = k\n",
    "    \n",
    "    # draw notification text if key was pressed less then 12 frames ago\n",
    "    if pressed_duration > 0:\n",
    "        notify_textlist_str = \"\\n\".join(\n",
    "            [x if x == pressed_text else \"\" for x in help_textlist])\n",
    "        draw.multiline_text(help_text_loc[hand_type], notify_textlist_str, \n",
    "                            font=help_font, fill=(235, 190, 63))\n",
    "        pressed_duration -= 1\n",
    "   \n",
    "    frame = np.array(frame).astype(np.uint8)\n",
    "    cv2.imshow(name, frame)\n",
    "            \n",
    "    i += 1\n",
    "\n",
    "\n",
    "with open(data_file_name, 'wb') as file:\n",
    "    print(f'Dumping {len(data_list)} items to {data_file_name}...')\n",
    "    pickle.dump(data_list, file)\n",
    "    print(f'Dumped.')\n",
    "    \n",
    "\n",
    "cap.stop()\n",
    "jesture_runner.stop_recognition()\n",
    "\n",
    "cv2.waitKey(1)\n",
    "cv2.destroyWindow(name)\n",
    "cv2.destroyAllWindows()\n",
    "cv2.waitKey(1)"
   ]
  },
  {
   "cell_type": "code",
   "execution_count": null,
   "metadata": {},
   "outputs": [],
   "source": [
    "cap.stop()\n",
    "jesture_runner.stop_recognition()\n",
    "\n",
    "cv2.waitKey(1)\n",
    "# cv2.destroyWindow(name)\n",
    "cv2.destroyAllWindows()\n",
    "cv2.waitKey(1)"
   ]
  },
  {
   "cell_type": "code",
   "execution_count": null,
   "metadata": {},
   "outputs": [],
   "source": [
    "import pickle\n",
    "\n",
    "data_file_name = './hand_kps_v1_170221_00_50.pkl'\n",
    "\n",
    "with open(data_file_name, 'rb') as file:\n",
    "    loaded_data = pickle.load(file)\n",
    "\n",
    "print(len(loaded_data))\n",
    "print(loaded_data[:3], loaded_data[-3:])"
   ]
  },
  {
   "cell_type": "code",
   "execution_count": null,
   "metadata": {},
   "outputs": [],
   "source": []
  },
  {
   "cell_type": "code",
   "execution_count": null,
   "metadata": {},
   "outputs": [],
   "source": []
  },
  {
   "cell_type": "markdown",
   "metadata": {},
   "source": [
    "---"
   ]
  },
  {
   "cell_type": "code",
   "execution_count": null,
   "metadata": {},
   "outputs": [],
   "source": [
    "# https://unicode.org/emoji/charts/emoji-list.html#1f44c\n",
    "gesture_to_emoji = {\n",
    "    '': '',\n",
    "    '———': '———',\n",
    "    'ONE': '\\U0000261D',\n",
    "    'TWO': 'TWO',\n",
    "    'THREE': 'THREE',\n",
    "    'FOUR': 'FOUR',\n",
    "    'FIVE' : '\\U0001F590',\n",
    "    'OK': '\\U0001F44C',\n",
    "    'YEAH': '\\U0000270C',\n",
    "    'SPIDERMAN': '\\U0001F91F',\n",
    "    'ROCK': '\\U0001F918',\n",
    "    'FIST': '\\U00009270A'\n",
    "}\n",
    "\n",
    "# !pip install emoji\n",
    "import unicodedata\n",
    "# in python2 use u'\\U0001f603'\n",
    "print('\\U0001F44C')#U+1F44C\n",
    "print(gesture_to_emoji['FIVE'])"
   ]
  },
  {
   "cell_type": "code",
   "execution_count": null,
   "metadata": {
    "scrolled": true
   },
   "outputs": [],
   "source": [
    "def show_logo_alpha():\n",
    "    design_root = '/Users/izakharkin/Desktop/deepjest/_design'\n",
    "    logo_path = f'{design_root}/wix/jesture_ai_logo_comfortaa/jesture_logo_comfortaa-removebg.png'\n",
    "\n",
    "    logo_img, logo_alpha = load_image_with_alpha(logo_path, remove_borders=True)\n",
    "\n",
    "    plt.imshow(logo_img);\n",
    "    plt.show();\n",
    "    plt.imshow(logo_alpha, cmap='gray');\n",
    "    plt.show();"
   ]
  },
  {
   "cell_type": "code",
   "execution_count": null,
   "metadata": {},
   "outputs": [],
   "source": [
    "def test_overlay():\n",
    "    testimg = io.imread('./test.jpg')\n",
    "    testimg = overlay_alpha(logo_img, logo_alpha, testimg, loc=(10, 10), alpha=1.0)\n",
    "\n",
    "    idx_to_gesture = {1: 'one', 2: 'two', 3: 'three', 4: 'four', 5: 'five',\n",
    "                      6: 'fist', 7: 'piece', 8: 'love', 9: 'ok', 0: 'horns'}\n",
    "    help_textlist = [f'{k}: {v}' for k, v in idx_to_gesture.items()]\n",
    "    testimg = draw_multiline_text(testimg, help_textlist)\n",
    "\n",
    "    plt.figure(figsize=(10, 7))\n",
    "    plt.imshow(testimg);"
   ]
  },
  {
   "cell_type": "code",
   "execution_count": null,
   "metadata": {},
   "outputs": [],
   "source": [
    "def test_blackbox():\n",
    "    blackbox = io.imread('./blackbox.png')\n",
    "    orig_size = (blackbox.shape[1], blackbox.shape[0])\n",
    "    print('orig_size:', orig_size)\n",
    "    target_size = (orig_size[0] // 7, orig_size[1] // 7)\n",
    "    print('target_size:', target_size)\n",
    "    blackbox = cv2.resize(blackbox, target_size)\n",
    "    plt.imshow(blackbox);\n",
    "    plt.show();\n",
    "\n",
    "    blackbox_alpha = np.ones_like(blackbox)[:,:,0] * 255\n",
    "    blackbox_alpha[blackbox[:,:,0] == 255] = 0\n",
    "    plt.imshow(blackbox_alpha, cmap='gray');\n",
    "    plt.show();\n",
    "\n",
    "    testimg = overlay_alpha(blackbox, blackbox_alpha, testimg, loc=(10, 100), alpha=1.0)\n",
    "    plt.figure(figsize=(10, 7))\n",
    "    plt.imshow(testimg);"
   ]
  },
  {
   "cell_type": "code",
   "execution_count": null,
   "metadata": {},
   "outputs": [],
   "source": [
    "def test_pil_draw():\n",
    "    testimg = io.imread('./test.jpg')\n",
    "    testimg = Image.fromarray(testimg)\n",
    "    draw = ImageDraw.Draw(testimg, \"RGBA\")\n",
    "    draw.rectangle(((280, 10), (1010, 706)), fill=(0, 0, 0, 127))\n",
    "    draw.rectangle(((280, 10), (1010, 706)), outline=(63, 190, 235, 127))\n",
    "    plt.figure(figsize=(12, 10))\n",
    "    plt.imshow(np.array(testimg));"
   ]
  },
  {
   "cell_type": "code",
   "execution_count": null,
   "metadata": {},
   "outputs": [],
   "source": []
  },
  {
   "cell_type": "code",
   "execution_count": null,
   "metadata": {},
   "outputs": [],
   "source": []
  },
  {
   "cell_type": "code",
   "execution_count": null,
   "metadata": {},
   "outputs": [],
   "source": []
  }
 ],
 "metadata": {
  "kernelspec": {
   "display_name": "Python 3",
   "language": "python",
   "name": "python3"
  },
  "language_info": {
   "codemirror_mode": {
    "name": "ipython",
    "version": 3
   },
   "file_extension": ".py",
   "mimetype": "text/x-python",
   "name": "python",
   "nbconvert_exporter": "python",
   "pygments_lexer": "ipython3",
   "version": "3.7.4"
  },
  "toc": {
   "base_numbering": 1,
   "nav_menu": {},
   "number_sections": true,
   "sideBar": true,
   "skip_h1_title": false,
   "title_cell": "Table of Contents",
   "title_sidebar": "Contents",
   "toc_cell": false,
   "toc_position": {},
   "toc_section_display": true,
   "toc_window_display": false
  }
 },
 "nbformat": 4,
 "nbformat_minor": 2
}
