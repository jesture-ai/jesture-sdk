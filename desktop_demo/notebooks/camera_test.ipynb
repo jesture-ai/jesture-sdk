{
 "cells": [
  {
   "cell_type": "code",
   "execution_count": 1,
   "metadata": {},
   "outputs": [
    {
     "name": "stdout",
     "output_type": "stream",
     "text": [
      "cv2.__version__: 4.1.2\n"
     ]
    }
   ],
   "source": [
    "import os\n",
    "import sys\n",
    "sys.path.append(os.path.abspath(\"..\"))\n",
    "\n",
    "import cv2\n",
    "print('cv2.__version__:', cv2.__version__)  # 4.1.2 recommended\n",
    "\n",
    "from src.thread_camera import ThreadCamera"
   ]
  },
  {
   "cell_type": "code",
   "execution_count": 2,
   "metadata": {},
   "outputs": [
    {
     "data": {
      "text/plain": [
       "0"
      ]
     },
     "execution_count": 2,
     "metadata": {},
     "output_type": "execute_result"
    }
   ],
   "source": [
    "name = 'JestureSDK: Python Demo'\n",
    "width, height = (640, 480)\n",
    "cv2.namedWindow(name)\n",
    "# cv2.resizeWindow(name, (width, height))\n",
    "cv2.startWindowThread()"
   ]
  },
  {
   "cell_type": "code",
   "execution_count": 3,
   "metadata": {},
   "outputs": [
    {
     "name": "stderr",
     "output_type": "stream",
     "text": [
      "(MainThread) [ThreadCamera] Stopping...\n",
      "(Camera Python Thread) [ThreadCamera] Frame loop finished.\n",
      "(Camera Python Thread) [ThreadCamera] Capture released.\n",
      "(MainThread) [ThreadCamera] Camera thread joined.\n"
     ]
    },
    {
     "data": {
      "text/plain": [
       "-1"
      ]
     },
     "execution_count": 3,
     "metadata": {},
     "output_type": "execute_result"
    }
   ],
   "source": [
    "cap = ThreadCamera(cam_id=1, width=width, height=height)\n",
    "# cap1 = cv2.VideoCapture(1)\n",
    "cap.start()\n",
    "\n",
    "selfie_mode = True\n",
    "i = 0\n",
    "while (True):\n",
    "    if cap.frame is None:\n",
    "        continue\n",
    "    \n",
    "#     ret, frame = cap1.read()\n",
    "    frame = cap.frame[:,::-1,:] if selfie_mode else cap.frame  # TODO: read frames from dylib\n",
    "    \n",
    "    cv2.imshow(name, frame)\n",
    "    \n",
    "    if cv2.waitKey(1) & 0xFF == ord('q'):\n",
    "        cap.stop()\n",
    "        break\n",
    "    \n",
    "    i += 1\n",
    "    \n",
    "cv2.waitKey(1)\n",
    "cv2.destroyWindow(name)\n",
    "cv2.destroyAllWindows()\n",
    "cv2.waitKey(1)"
   ]
  },
  {
   "cell_type": "code",
   "execution_count": null,
   "metadata": {},
   "outputs": [],
   "source": []
  }
 ],
 "metadata": {
  "kernelspec": {
   "display_name": "Python 3",
   "language": "python",
   "name": "python3"
  },
  "language_info": {
   "codemirror_mode": {
    "name": "ipython",
    "version": 3
   },
   "file_extension": ".py",
   "mimetype": "text/x-python",
   "name": "python",
   "nbconvert_exporter": "python",
   "pygments_lexer": "ipython3",
   "version": "3.7.4"
  },
  "toc": {
   "base_numbering": 1,
   "nav_menu": {},
   "number_sections": true,
   "sideBar": true,
   "skip_h1_title": false,
   "title_cell": "Table of Contents",
   "title_sidebar": "Contents",
   "toc_cell": false,
   "toc_position": {},
   "toc_section_display": true,
   "toc_window_display": false
  }
 },
 "nbformat": 4,
 "nbformat_minor": 2
}
